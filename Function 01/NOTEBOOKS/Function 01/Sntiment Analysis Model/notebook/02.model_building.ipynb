{
 "cells": [
  {
   "cell_type": "code",
   "execution_count": 225,
   "id": "0106f89e",
   "metadata": {},
   "outputs": [],
   "source": [
    "import numpy as np\n",
    "import pandas as pd\n",
    "import matplotlib.pyplot as plt"
   ]
  },
  {
   "cell_type": "code",
   "execution_count": 226,
   "id": "ef1d9033",
   "metadata": {},
   "outputs": [
    {
     "data": {
      "text/html": [
       "<div>\n",
       "<style scoped>\n",
       "    .dataframe tbody tr th:only-of-type {\n",
       "        vertical-align: middle;\n",
       "    }\n",
       "\n",
       "    .dataframe tbody tr th {\n",
       "        vertical-align: top;\n",
       "    }\n",
       "\n",
       "    .dataframe thead th {\n",
       "        text-align: right;\n",
       "    }\n",
       "</style>\n",
       "<table border=\"1\" class=\"dataframe\">\n",
       "  <thead>\n",
       "    <tr style=\"text-align: right;\">\n",
       "      <th></th>\n",
       "      <th>Review_Text</th>\n",
       "      <th>Sentiment</th>\n",
       "    </tr>\n",
       "  </thead>\n",
       "  <tbody>\n",
       "    <tr>\n",
       "      <th>0</th>\n",
       "      <td>The dog had surgery for a tumor. Recovery expe...</td>\n",
       "      <td>Positive</td>\n",
       "    </tr>\n",
       "    <tr>\n",
       "      <th>1</th>\n",
       "      <td>The dog has a mild case of conjunctivitis. Rec...</td>\n",
       "      <td>Positive</td>\n",
       "    </tr>\n",
       "    <tr>\n",
       "      <th>2</th>\n",
       "      <td>The dog had a viral infection. Recovered fully...</td>\n",
       "      <td>Positive</td>\n",
       "    </tr>\n",
       "    <tr>\n",
       "      <th>3</th>\n",
       "      <td>The dog is suffering from chronic ear problems...</td>\n",
       "      <td>Negative</td>\n",
       "    </tr>\n",
       "    <tr>\n",
       "      <th>4</th>\n",
       "      <td>The dog had a minor surgery and is recovering ...</td>\n",
       "      <td>Positive</td>\n",
       "    </tr>\n",
       "    <tr>\n",
       "      <th>...</th>\n",
       "      <td>...</td>\n",
       "      <td>...</td>\n",
       "    </tr>\n",
       "    <tr>\n",
       "      <th>501</th>\n",
       "      <td>The treatment plan is being evaluated; decisio...</td>\n",
       "      <td>Neutral</td>\n",
       "    </tr>\n",
       "    <tr>\n",
       "      <th>502</th>\n",
       "      <td>The dog's recovery is progressing steadily; si...</td>\n",
       "      <td>Positive</td>\n",
       "    </tr>\n",
       "    <tr>\n",
       "      <th>503</th>\n",
       "      <td>Encouraging signs of improvement; the dog's he...</td>\n",
       "      <td>Positive</td>\n",
       "    </tr>\n",
       "    <tr>\n",
       "      <th>504</th>\n",
       "      <td>Recovery is expected soon; the dog's condition...</td>\n",
       "      <td>Positive</td>\n",
       "    </tr>\n",
       "    <tr>\n",
       "      <th>505</th>\n",
       "      <td>Positive feedback on the treatment; the dog is...</td>\n",
       "      <td>Positive</td>\n",
       "    </tr>\n",
       "  </tbody>\n",
       "</table>\n",
       "<p>506 rows × 2 columns</p>\n",
       "</div>"
      ],
      "text/plain": [
       "                                           Review_Text Sentiment\n",
       "0    The dog had surgery for a tumor. Recovery expe...  Positive\n",
       "1    The dog has a mild case of conjunctivitis. Rec...  Positive\n",
       "2    The dog had a viral infection. Recovered fully...  Positive\n",
       "3    The dog is suffering from chronic ear problems...  Negative\n",
       "4    The dog had a minor surgery and is recovering ...  Positive\n",
       "..                                                 ...       ...\n",
       "501  The treatment plan is being evaluated; decisio...   Neutral\n",
       "502  The dog's recovery is progressing steadily; si...  Positive\n",
       "503  Encouraging signs of improvement; the dog's he...  Positive\n",
       "504  Recovery is expected soon; the dog's condition...  Positive\n",
       "505  Positive feedback on the treatment; the dog is...  Positive\n",
       "\n",
       "[506 rows x 2 columns]"
      ]
     },
     "execution_count": 226,
     "metadata": {},
     "output_type": "execute_result"
    }
   ],
   "source": [
    "import pandas as pd\n",
    "\n",
    "# Specify the file name\n",
    "filename = \"dog.csv\"\n",
    "\n",
    "# Read data into a DataFrame\n",
    "data = pd.read_csv(filename)\n",
    "\n",
    "# Display the DataFrame\n",
    "data\n"
   ]
  },
  {
   "cell_type": "code",
   "execution_count": 227,
   "id": "4f9cf823",
   "metadata": {},
   "outputs": [
    {
     "data": {
      "text/html": [
       "<div>\n",
       "<style scoped>\n",
       "    .dataframe tbody tr th:only-of-type {\n",
       "        vertical-align: middle;\n",
       "    }\n",
       "\n",
       "    .dataframe tbody tr th {\n",
       "        vertical-align: top;\n",
       "    }\n",
       "\n",
       "    .dataframe thead th {\n",
       "        text-align: right;\n",
       "    }\n",
       "</style>\n",
       "<table border=\"1\" class=\"dataframe\">\n",
       "  <thead>\n",
       "    <tr style=\"text-align: right;\">\n",
       "      <th></th>\n",
       "      <th>Review_Text</th>\n",
       "      <th>Sentiment</th>\n",
       "    </tr>\n",
       "  </thead>\n",
       "  <tbody>\n",
       "    <tr>\n",
       "      <th>0</th>\n",
       "      <td>The dog had surgery for a tumor. Recovery expe...</td>\n",
       "      <td>Positive</td>\n",
       "    </tr>\n",
       "    <tr>\n",
       "      <th>1</th>\n",
       "      <td>The dog has a mild case of conjunctivitis. Rec...</td>\n",
       "      <td>Positive</td>\n",
       "    </tr>\n",
       "    <tr>\n",
       "      <th>2</th>\n",
       "      <td>The dog had a viral infection. Recovered fully...</td>\n",
       "      <td>Positive</td>\n",
       "    </tr>\n",
       "    <tr>\n",
       "      <th>3</th>\n",
       "      <td>The dog is suffering from chronic ear problems...</td>\n",
       "      <td>Negative</td>\n",
       "    </tr>\n",
       "    <tr>\n",
       "      <th>4</th>\n",
       "      <td>The dog had a minor surgery and is recovering ...</td>\n",
       "      <td>Positive</td>\n",
       "    </tr>\n",
       "  </tbody>\n",
       "</table>\n",
       "</div>"
      ],
      "text/plain": [
       "                                         Review_Text Sentiment\n",
       "0  The dog had surgery for a tumor. Recovery expe...  Positive\n",
       "1  The dog has a mild case of conjunctivitis. Rec...  Positive\n",
       "2  The dog had a viral infection. Recovered fully...  Positive\n",
       "3  The dog is suffering from chronic ear problems...  Negative\n",
       "4  The dog had a minor surgery and is recovering ...  Positive"
      ]
     },
     "execution_count": 227,
     "metadata": {},
     "output_type": "execute_result"
    }
   ],
   "source": [
    "data.head()"
   ]
  },
  {
   "cell_type": "code",
   "execution_count": null,
   "id": "790c9514-222f-405c-9e40-6b39489675d6",
   "metadata": {},
   "outputs": [],
   "source": []
  },
  {
   "cell_type": "markdown",
   "id": "88607daa",
   "metadata": {},
   "source": [
    "## Data Preprocessing"
   ]
  },
  {
   "cell_type": "code",
   "execution_count": 228,
   "id": "bf9bf74a",
   "metadata": {},
   "outputs": [
    {
     "data": {
      "text/plain": [
       "(506, 2)"
      ]
     },
     "execution_count": 228,
     "metadata": {},
     "output_type": "execute_result"
    }
   ],
   "source": [
    "data.shape"
   ]
  },
  {
   "cell_type": "code",
   "execution_count": 229,
   "id": "dc8fb615",
   "metadata": {},
   "outputs": [
    {
     "data": {
      "text/plain": [
       "Review_Text    0\n",
       "Sentiment      0\n",
       "dtype: int64"
      ]
     },
     "execution_count": 229,
     "metadata": {},
     "output_type": "execute_result"
    }
   ],
   "source": [
    "data.isnull().sum()"
   ]
  },
  {
   "cell_type": "code",
   "execution_count": 230,
   "id": "aa146785-9eba-49e0-8957-cc8e22d6d669",
   "metadata": {},
   "outputs": [
    {
     "name": "stdout",
     "output_type": "stream",
     "text": [
      "Review_Text    0\n",
      "Sentiment      0\n",
      "dtype: int64\n"
     ]
    }
   ],
   "source": [
    "\n",
    "\n",
    "# Remove rows with any null values\n",
    "data_cleaned = data.dropna()\n",
    "\n",
    "# Check the number of null values again to ensure they have been removed\n",
    "null_counts_after = data_cleaned.isnull().sum()\n",
    "print(null_counts_after)\n"
   ]
  },
  {
   "cell_type": "markdown",
   "id": "526c5fdd",
   "metadata": {},
   "source": [
    "### Text Preprocessing"
   ]
  },
  {
   "cell_type": "code",
   "execution_count": 231,
   "id": "ed9f67a1",
   "metadata": {},
   "outputs": [],
   "source": [
    "import re\n",
    "import string"
   ]
  },
  {
   "cell_type": "code",
   "execution_count": 232,
   "id": "7081e709",
   "metadata": {},
   "outputs": [
    {
     "data": {
      "text/plain": [
       "0    The dog had surgery for a tumor. Recovery expe...\n",
       "1    The dog has a mild case of conjunctivitis. Rec...\n",
       "2    The dog had a viral infection. Recovered fully...\n",
       "3    The dog is suffering from chronic ear problems...\n",
       "4    The dog had a minor surgery and is recovering ...\n",
       "Name: Review_Text, dtype: object"
      ]
     },
     "execution_count": 232,
     "metadata": {},
     "output_type": "execute_result"
    }
   ],
   "source": [
    "data[\"Review_Text\"].head(5)"
   ]
  },
  {
   "cell_type": "markdown",
   "id": "6cca92c5",
   "metadata": {},
   "source": [
    "convert uppercase to lowercase"
   ]
  },
  {
   "cell_type": "code",
   "execution_count": 233,
   "id": "cbc9bf0c",
   "metadata": {},
   "outputs": [],
   "source": [
    "# Ensure all entries in the 'Review_Text' column are strings\n",
    "data[\"Review_Text\"] = data[\"Review_Text\"].astype(str)\n",
    "\n",
    "# Apply the transformation\n",
    "data[\"Review_Text\"] = data[\"Review_Text\"].apply(lambda x: \" \".join(word.lower() for word in x.split()))\n",
    "\n"
   ]
  },
  {
   "cell_type": "code",
   "execution_count": 234,
   "id": "af217a80",
   "metadata": {},
   "outputs": [
    {
     "data": {
      "text/plain": [
       "0    the dog had surgery for a tumor. recovery expe...\n",
       "1    the dog has a mild case of conjunctivitis. rec...\n",
       "2    the dog had a viral infection. recovered fully...\n",
       "3    the dog is suffering from chronic ear problems...\n",
       "4    the dog had a minor surgery and is recovering ...\n",
       "Name: Review_Text, dtype: object"
      ]
     },
     "execution_count": 234,
     "metadata": {},
     "output_type": "execute_result"
    }
   ],
   "source": [
    "data[\"Review_Text\"].head(5)"
   ]
  },
  {
   "cell_type": "markdown",
   "id": "eed5a9b9",
   "metadata": {},
   "source": [
    "remove links"
   ]
  },
  {
   "cell_type": "code",
   "execution_count": 235,
   "id": "3c08a450",
   "metadata": {},
   "outputs": [],
   "source": [
    "data[\"Review_Text\"] = data['Review_Text'].apply(lambda x: \" \".join(re.sub(r'^https?:\\/\\/.*[\\r\\n]*', '', x, flags=re.MULTILINE) for x in x.split()))"
   ]
  },
  {
   "cell_type": "code",
   "execution_count": 236,
   "id": "8515c536",
   "metadata": {},
   "outputs": [
    {
     "data": {
      "text/plain": [
       "0    the dog had surgery for a tumor. recovery expe...\n",
       "1    the dog has a mild case of conjunctivitis. rec...\n",
       "2    the dog had a viral infection. recovered fully...\n",
       "3    the dog is suffering from chronic ear problems...\n",
       "4    the dog had a minor surgery and is recovering ...\n",
       "Name: Review_Text, dtype: object"
      ]
     },
     "execution_count": 236,
     "metadata": {},
     "output_type": "execute_result"
    }
   ],
   "source": [
    "data[\"Review_Text\"].head(5)"
   ]
  },
  {
   "cell_type": "markdown",
   "id": "e32230de",
   "metadata": {},
   "source": [
    "Remove punctuations"
   ]
  },
  {
   "cell_type": "code",
   "execution_count": 237,
   "id": "aeb90245",
   "metadata": {},
   "outputs": [
    {
     "data": {
      "text/plain": [
       "'!\"#$%&\\'()*+,-./:;<=>?@[\\\\]^_`{|}~'"
      ]
     },
     "execution_count": 237,
     "metadata": {},
     "output_type": "execute_result"
    }
   ],
   "source": [
    "string.punctuation"
   ]
  },
  {
   "cell_type": "code",
   "execution_count": 238,
   "id": "af87aa41",
   "metadata": {},
   "outputs": [],
   "source": [
    "def remove_punctuations(text):\n",
    "    for punctuation in string.punctuation:\n",
    "        text = text.replace(punctuation, '')\n",
    "    return text\n",
    "\n",
    "data[\"Review_Text\"] = data[\"Review_Text\"].apply(remove_punctuations)"
   ]
  },
  {
   "cell_type": "code",
   "execution_count": 239,
   "id": "8857c1cd",
   "metadata": {
    "scrolled": true
   },
   "outputs": [
    {
     "data": {
      "text/plain": [
       "496    the dogs health is being closely monitored upd...\n",
       "497    the recovery path is unpredictable every day b...\n",
       "498    the treatment approach is cautious progress is...\n",
       "499    the dogs condition is stable there are no imme...\n",
       "500    the recovery outlook is uncertain ongoing asse...\n",
       "501    the treatment plan is being evaluated decision...\n",
       "502    the dogs recovery is progressing steadily sign...\n",
       "503    encouraging signs of improvement the dogs heal...\n",
       "504    recovery is expected soon the dogs condition i...\n",
       "505    positive feedback on the treatment the dog is ...\n",
       "Name: Review_Text, dtype: object"
      ]
     },
     "execution_count": 239,
     "metadata": {},
     "output_type": "execute_result"
    }
   ],
   "source": [
    "data[\"Review_Text\"].tail(10)"
   ]
  },
  {
   "cell_type": "markdown",
   "id": "362075f8",
   "metadata": {},
   "source": [
    "remove numbers"
   ]
  },
  {
   "cell_type": "code",
   "execution_count": 240,
   "id": "1ba650eb",
   "metadata": {},
   "outputs": [
    {
     "name": "stderr",
     "output_type": "stream",
     "text": [
      "<>:1: SyntaxWarning: invalid escape sequence '\\d'\n",
      "<>:1: SyntaxWarning: invalid escape sequence '\\d'\n",
      "C:\\Users\\Pasidhu\\AppData\\Local\\Temp\\ipykernel_12376\\119659372.py:1: SyntaxWarning: invalid escape sequence '\\d'\n",
      "  data[\"Review_Text\"] = data['Review_Text'].str.replace('\\d+', '', regex=True)\n"
     ]
    }
   ],
   "source": [
    "data[\"Review_Text\"] = data['Review_Text'].str.replace('\\d+', '', regex=True)"
   ]
  },
  {
   "cell_type": "code",
   "execution_count": 241,
   "id": "63899f2e",
   "metadata": {},
   "outputs": [
    {
     "data": {
      "text/plain": [
       "496    the dogs health is being closely monitored upd...\n",
       "497    the recovery path is unpredictable every day b...\n",
       "498    the treatment approach is cautious progress is...\n",
       "499    the dogs condition is stable there are no imme...\n",
       "500    the recovery outlook is uncertain ongoing asse...\n",
       "501    the treatment plan is being evaluated decision...\n",
       "502    the dogs recovery is progressing steadily sign...\n",
       "503    encouraging signs of improvement the dogs heal...\n",
       "504    recovery is expected soon the dogs condition i...\n",
       "505    positive feedback on the treatment the dog is ...\n",
       "Name: Review_Text, dtype: object"
      ]
     },
     "execution_count": 241,
     "metadata": {},
     "output_type": "execute_result"
    }
   ],
   "source": [
    "data[\"Review_Text\"].tail(10)"
   ]
  },
  {
   "cell_type": "markdown",
   "id": "c8dc4bc7",
   "metadata": {},
   "source": [
    "remove stopwords"
   ]
  },
  {
   "cell_type": "code",
   "execution_count": 242,
   "id": "3e7d9b38",
   "metadata": {},
   "outputs": [
    {
     "name": "stdout",
     "output_type": "stream",
     "text": [
      "Defaulting to user installation because normal site-packages is not writeable\n",
      "Requirement already satisfied: nltk in c:\\users\\pasidhu\\appdata\\roaming\\python\\python312\\site-packages (3.8.1)\n",
      "Requirement already satisfied: click in c:\\users\\pasidhu\\appdata\\roaming\\python\\python312\\site-packages (from nltk) (8.1.7)\n",
      "Requirement already satisfied: joblib in c:\\users\\pasidhu\\appdata\\roaming\\python\\python312\\site-packages (from nltk) (1.4.0)\n",
      "Requirement already satisfied: regex>=2021.8.3 in c:\\users\\pasidhu\\appdata\\roaming\\python\\python312\\site-packages (from nltk) (2023.12.25)\n",
      "Requirement already satisfied: tqdm in c:\\users\\pasidhu\\appdata\\roaming\\python\\python312\\site-packages (from nltk) (4.66.2)\n",
      "Requirement already satisfied: colorama in c:\\users\\pasidhu\\appdata\\roaming\\python\\python312\\site-packages (from click->nltk) (0.4.6)\n"
     ]
    },
    {
     "name": "stderr",
     "output_type": "stream",
     "text": [
      "\n",
      "[notice] A new release of pip is available: 24.1 -> 24.1.2\n",
      "[notice] To update, run: python.exe -m pip install --upgrade pip\n"
     ]
    }
   ],
   "source": [
    "!pip install nltk"
   ]
  },
  {
   "cell_type": "code",
   "execution_count": 243,
   "id": "ecb2cee9",
   "metadata": {},
   "outputs": [],
   "source": [
    "import nltk"
   ]
  },
  {
   "cell_type": "code",
   "execution_count": 244,
   "id": "2ccdb0bb-83a3-409c-8fee-bb8a0a56348b",
   "metadata": {},
   "outputs": [
    {
     "name": "stderr",
     "output_type": "stream",
     "text": [
      "[nltk_data] Downloading package stopwords to\n",
      "[nltk_data]     C:\\Users\\Pasidhu\\Desktop\\Dogsentiment_analysis\\need...\n",
      "[nltk_data]   Package stopwords is already up-to-date!\n"
     ]
    },
    {
     "data": {
      "text/plain": [
       "True"
      ]
     },
     "execution_count": 244,
     "metadata": {},
     "output_type": "execute_result"
    }
   ],
   "source": [
    "\n",
    "# Specify the download directory\n",
    "download_dir = r'C:\\Users\\Pasidhu\\Desktop\\Dogsentiment_analysis\\need'\n",
    "\n",
    "# Download the stopwords\n",
    "nltk.download('stopwords', download_dir=download_dir)\n"
   ]
  },
  {
   "cell_type": "code",
   "execution_count": 245,
   "id": "578e1739",
   "metadata": {},
   "outputs": [
    {
     "name": "stdout",
     "output_type": "stream",
     "text": [
      "['i', 'me', 'my', 'myself', 'we', 'our', 'ours', 'ourselves', 'you', \"you're\"]\n"
     ]
    }
   ],
   "source": [
    "import os\n",
    "\n",
    "# Path to the stopwords file\n",
    "stopwords_path = os.path.join(download_dir, 'corpora', 'stopwords', 'english')\n",
    "\n",
    "# Read the stopwords\n",
    "with open(stopwords_path, 'r') as file:\n",
    "    sw = file.read().splitlines()\n",
    "\n",
    "print(sw[:10])  # Print the first 10 stopwords to verify\n"
   ]
  },
  {
   "cell_type": "code",
   "execution_count": 246,
   "id": "6edc2552",
   "metadata": {},
   "outputs": [],
   "source": [
    "data[\"Review_Text\"] = data[\"Review_Text\"].apply(lambda x: \" \".join(x for x in x.split() if x not in sw))"
   ]
  },
  {
   "cell_type": "code",
   "execution_count": 247,
   "id": "7b4da7e2",
   "metadata": {},
   "outputs": [
    {
     "data": {
      "text/plain": [
       "0    dog surgery tumor recovery expected two months...\n",
       "1    dog mild case conjunctivitis recovery within week\n",
       "2        dog viral infection recovered fully two weeks\n",
       "3    dog suffering chronic ear problems significant...\n",
       "4    dog minor surgery recovering well expected ful...\n",
       "Name: Review_Text, dtype: object"
      ]
     },
     "execution_count": 247,
     "metadata": {},
     "output_type": "execute_result"
    }
   ],
   "source": [
    "data[\"Review_Text\"].head()"
   ]
  },
  {
   "cell_type": "markdown",
   "id": "564a05cf",
   "metadata": {},
   "source": [
    "Stemming"
   ]
  },
  {
   "cell_type": "code",
   "execution_count": 248,
   "id": "7a8f6628",
   "metadata": {},
   "outputs": [],
   "source": [
    "from nltk.stem import PorterStemmer\n",
    "ps = PorterStemmer()"
   ]
  },
  {
   "cell_type": "code",
   "execution_count": 249,
   "id": "9475054e",
   "metadata": {},
   "outputs": [],
   "source": [
    "data[\"Review_Text\"] = data[\"Review_Text\"].apply(lambda x: \" \".join(ps.stem(x) for x in x.split()))"
   ]
  },
  {
   "cell_type": "code",
   "execution_count": 250,
   "id": "8e70f1f5",
   "metadata": {},
   "outputs": [
    {
     "data": {
      "text/plain": [
       "0    dog surgeri tumor recoveri expect two month sh...\n",
       "1          dog mild case conjunct recoveri within week\n",
       "2                dog viral infect recov fulli two week\n",
       "3    dog suffer chronic ear problem signific improv...\n",
       "4    dog minor surgeri recov well expect full recov...\n",
       "Name: Review_Text, dtype: object"
      ]
     },
     "execution_count": 250,
     "metadata": {},
     "output_type": "execute_result"
    }
   ],
   "source": [
    "data[\"Review_Text\"].head()"
   ]
  },
  {
   "cell_type": "code",
   "execution_count": 251,
   "id": "5de7cd13",
   "metadata": {},
   "outputs": [
    {
     "data": {
      "text/html": [
       "<div>\n",
       "<style scoped>\n",
       "    .dataframe tbody tr th:only-of-type {\n",
       "        vertical-align: middle;\n",
       "    }\n",
       "\n",
       "    .dataframe tbody tr th {\n",
       "        vertical-align: top;\n",
       "    }\n",
       "\n",
       "    .dataframe thead th {\n",
       "        text-align: right;\n",
       "    }\n",
       "</style>\n",
       "<table border=\"1\" class=\"dataframe\">\n",
       "  <thead>\n",
       "    <tr style=\"text-align: right;\">\n",
       "      <th></th>\n",
       "      <th>Review_Text</th>\n",
       "      <th>Sentiment</th>\n",
       "    </tr>\n",
       "  </thead>\n",
       "  <tbody>\n",
       "    <tr>\n",
       "      <th>0</th>\n",
       "      <td>dog surgeri tumor recoveri expect two month sh...</td>\n",
       "      <td>Positive</td>\n",
       "    </tr>\n",
       "    <tr>\n",
       "      <th>1</th>\n",
       "      <td>dog mild case conjunct recoveri within week</td>\n",
       "      <td>Positive</td>\n",
       "    </tr>\n",
       "    <tr>\n",
       "      <th>2</th>\n",
       "      <td>dog viral infect recov fulli two week</td>\n",
       "      <td>Positive</td>\n",
       "    </tr>\n",
       "    <tr>\n",
       "      <th>3</th>\n",
       "      <td>dog suffer chronic ear problem signific improv...</td>\n",
       "      <td>Negative</td>\n",
       "    </tr>\n",
       "    <tr>\n",
       "      <th>4</th>\n",
       "      <td>dog minor surgeri recov well expect full recov...</td>\n",
       "      <td>Positive</td>\n",
       "    </tr>\n",
       "    <tr>\n",
       "      <th>...</th>\n",
       "      <td>...</td>\n",
       "      <td>...</td>\n",
       "    </tr>\n",
       "    <tr>\n",
       "      <th>501</th>\n",
       "      <td>treatment plan evalu decis made soon</td>\n",
       "      <td>Neutral</td>\n",
       "    </tr>\n",
       "    <tr>\n",
       "      <th>502</th>\n",
       "      <td>dog recoveri progress steadili sign posit</td>\n",
       "      <td>Positive</td>\n",
       "    </tr>\n",
       "    <tr>\n",
       "      <th>503</th>\n",
       "      <td>encourag sign improv dog health improv</td>\n",
       "      <td>Positive</td>\n",
       "    </tr>\n",
       "    <tr>\n",
       "      <th>504</th>\n",
       "      <td>recoveri expect soon dog condit stabil</td>\n",
       "      <td>Positive</td>\n",
       "    </tr>\n",
       "    <tr>\n",
       "      <th>505</th>\n",
       "      <td>posit feedback treatment dog respond well</td>\n",
       "      <td>Positive</td>\n",
       "    </tr>\n",
       "  </tbody>\n",
       "</table>\n",
       "<p>506 rows × 2 columns</p>\n",
       "</div>"
      ],
      "text/plain": [
       "                                           Review_Text Sentiment\n",
       "0    dog surgeri tumor recoveri expect two month sh...  Positive\n",
       "1          dog mild case conjunct recoveri within week  Positive\n",
       "2                dog viral infect recov fulli two week  Positive\n",
       "3    dog suffer chronic ear problem signific improv...  Negative\n",
       "4    dog minor surgeri recov well expect full recov...  Positive\n",
       "..                                                 ...       ...\n",
       "501               treatment plan evalu decis made soon   Neutral\n",
       "502          dog recoveri progress steadili sign posit  Positive\n",
       "503             encourag sign improv dog health improv  Positive\n",
       "504             recoveri expect soon dog condit stabil  Positive\n",
       "505          posit feedback treatment dog respond well  Positive\n",
       "\n",
       "[506 rows x 2 columns]"
      ]
     },
     "execution_count": 251,
     "metadata": {},
     "output_type": "execute_result"
    }
   ],
   "source": [
    "data"
   ]
  },
  {
   "cell_type": "markdown",
   "id": "02b37cab",
   "metadata": {},
   "source": [
    "### Building Vacabulary"
   ]
  },
  {
   "cell_type": "code",
   "execution_count": 252,
   "id": "01a2e3bc",
   "metadata": {},
   "outputs": [],
   "source": [
    "from collections import Counter\n",
    "vocab = Counter()"
   ]
  },
  {
   "cell_type": "code",
   "execution_count": 253,
   "id": "82e30d97",
   "metadata": {},
   "outputs": [
    {
     "data": {
      "text/plain": [
       "Counter()"
      ]
     },
     "execution_count": 253,
     "metadata": {},
     "output_type": "execute_result"
    }
   ],
   "source": [
    "vocab"
   ]
  },
  {
   "cell_type": "code",
   "execution_count": 254,
   "id": "c8278c45",
   "metadata": {},
   "outputs": [],
   "source": [
    "for sentence in data['Review_Text']:\n",
    "    vocab.update(sentence.split())"
   ]
  },
  {
   "cell_type": "code",
   "execution_count": 255,
   "id": "717b8759",
   "metadata": {},
   "outputs": [
    {
     "data": {
      "text/plain": [
       "315"
      ]
     },
     "execution_count": 255,
     "metadata": {},
     "output_type": "execute_result"
    }
   ],
   "source": [
    "len(vocab)"
   ]
  },
  {
   "cell_type": "code",
   "execution_count": 256,
   "id": "aafec55c-6722-40e1-b6ce-cb52e357e283",
   "metadata": {},
   "outputs": [
    {
     "data": {
      "text/plain": [
       "315"
      ]
     },
     "execution_count": 256,
     "metadata": {},
     "output_type": "execute_result"
    }
   ],
   "source": [
    "tokens = [key for key in vocab if vocab[key] > 0]\n",
    "len(tokens)"
   ]
  },
  {
   "cell_type": "code",
   "execution_count": 257,
   "id": "41084d99-a20d-480a-91bc-2390f487b374",
   "metadata": {},
   "outputs": [
    {
     "name": "stdout",
     "output_type": "stream",
     "text": [
      "Token: dog, Count: 472\n",
      "Token: surgeri, Count: 56\n",
      "Token: tumor, Count: 18\n",
      "Token: recoveri, Count: 165\n",
      "Token: expect, Count: 70\n",
      "Token: two, Count: 57\n",
      "Token: month, Count: 75\n",
      "Token: show, Count: 37\n",
      "Token: posit, Count: 47\n",
      "Token: sign, Count: 57\n",
      "Token: mild, Count: 45\n",
      "Token: case, Count: 47\n",
      "Token: conjunct, Count: 21\n",
      "Token: within, Count: 47\n",
      "Token: week, Count: 102\n",
      "Token: viral, Count: 47\n",
      "Token: infect, Count: 90\n",
      "Token: recov, Count: 80\n",
      "Token: fulli, Count: 64\n",
      "Token: suffer, Count: 68\n",
      "Token: chronic, Count: 46\n",
      "Token: ear, Count: 25\n",
      "Token: problem, Count: 45\n",
      "Token: signific, Count: 73\n",
      "Token: improv, Count: 77\n",
      "Token: one, Count: 47\n",
      "Token: minor, Count: 26\n",
      "Token: well, Count: 61\n",
      "Token: full, Count: 21\n",
      "Token: bad, Count: 27\n",
      "Token: reaction, Count: 29\n",
      "Token: flea, Count: 17\n",
      "Token: treatment, Count: 107\n",
      "Token: day, Count: 28\n",
      "Token: mang, Count: 12\n",
      "Token: took, Count: 41\n",
      "Token: three, Count: 21\n",
      "Token: fine, Count: 19\n",
      "Token: gastriti, Count: 12\n",
      "Token: sever, Count: 60\n",
      "Token: pneumonia, Count: 14\n",
      "Token: healthi, Count: 19\n",
      "Token: injuri, Count: 14\n",
      "Token: respiratori, Count: 12\n",
      "Token: anxieti, Count: 40\n",
      "Token: wound, Count: 16\n",
      "Token: heal, Count: 23\n",
      "Token: parvoviru, Count: 3\n",
      "Token: hip, Count: 3\n",
      "Token: dysplasia, Count: 3\n",
      "Token: take, Count: 5\n",
      "Token: yet, Count: 3\n",
      "Token: back, Count: 4\n",
      "Token: play, Count: 2\n",
      "Token: self, Count: 2\n",
      "Token: kennel, Count: 3\n",
      "Token: cough, Count: 6\n",
      "Token: requir, Count: 8\n",
      "Token: intens, Count: 2\n",
      "Token: fractur, Count: 3\n",
      "Token: normal, Count: 2\n",
      "Token: activ, Count: 3\n",
      "Token: respond, Count: 8\n",
      "Token: antibiot, Count: 17\n",
      "Token: allerg, Count: 3\n",
      "Token: complet, Count: 2\n",
      "Token: prompt, Count: 2\n",
      "Token: medic, Count: 32\n",
      "Token: care, Count: 3\n",
      "Token: diagnos, Count: 29\n",
      "Token: arthriti, Count: 8\n",
      "Token: symptom, Count: 4\n",
      "Token: manag, Count: 2\n",
      "Token: lifestyl, Count: 2\n",
      "Token: chang, Count: 3\n",
      "Token: urinari, Count: 7\n",
      "Token: tract, Count: 7\n",
      "Token: soon, Count: 13\n",
      "Token: last, Count: 14\n",
      "Token: effect, Count: 6\n",
      "Token: observ, Count: 3\n",
      "Token: heatstrok, Count: 2\n",
      "Token: immedi, Count: 4\n",
      "Token: outcom, Count: 3\n",
      "Token: undergo, Count: 2\n",
      "Token: physic, Count: 2\n",
      "Token: therapi, Count: 2\n",
      "Token: muscl, Count: 2\n",
      "Token: strain, Count: 2\n",
      "Token: session, Count: 2\n",
      "Token: gastrointestin, Count: 3\n",
      "Token: disord, Count: 2\n",
      "Token: respons, Count: 5\n",
      "Token: biopsi, Count: 9\n",
      "Token: confirm, Count: 5\n",
      "Token: await, Count: 5\n",
      "Token: date, Count: 5\n",
      "Token: came, Count: 10\n",
      "Token: broken, Count: 5\n",
      "Token: leg, Count: 5\n",
      "Token: success, Count: 9\n",
      "Token: diabet, Count: 6\n",
      "Token: start, Count: 18\n",
      "Token: monitor, Count: 16\n",
      "Token: blood, Count: 5\n",
      "Token: sugar, Count: 5\n",
      "Token: level, Count: 5\n",
      "Token: lacer, Count: 5\n",
      "Token: paw, Count: 5\n",
      "Token: sutur, Count: 5\n",
      "Token: prescrib, Count: 10\n",
      "Token: vomit, Count: 5\n",
      "Token: diarrhea, Count: 5\n",
      "Token: run, Count: 5\n",
      "Token: test, Count: 6\n",
      "Token: determin, Count: 9\n",
      "Token: caus, Count: 43\n",
      "Token: tick, Count: 5\n",
      "Token: parasit, Count: 5\n",
      "Token: prevent, Count: 5\n",
      "Token: mite, Count: 5\n",
      "Token: pain, Count: 8\n",
      "Token: physiotherapi, Count: 5\n",
      "Token: routin, Count: 5\n",
      "Token: checkup, Count: 6\n",
      "Token: uptod, Count: 5\n",
      "Token: vaccin, Count: 5\n",
      "Token: letharg, Count: 3\n",
      "Token: xray, Count: 3\n",
      "Token: reveal, Count: 3\n",
      "Token: place, Count: 7\n",
      "Token: ingest, Count: 3\n",
      "Token: foreign, Count: 3\n",
      "Token: object, Count: 6\n",
      "Token: remov, Count: 3\n",
      "Token: cancer, Count: 8\n",
      "Token: option, Count: 7\n",
      "Token: discuss, Count: 13\n",
      "Token: owner, Count: 13\n",
      "Token: skin, Count: 5\n",
      "Token: mass, Count: 8\n",
      "Token: perform, Count: 4\n",
      "Token: dental, Count: 6\n",
      "Token: diseas, Count: 13\n",
      "Token: clean, Count: 3\n",
      "Token: extract, Count: 4\n",
      "Token: recommend, Count: 3\n",
      "Token: behavior, Count: 3\n",
      "Token: modif, Count: 3\n",
      "Token: techniqu, Count: 3\n",
      "Token: obes, Count: 3\n",
      "Token: weight, Count: 3\n",
      "Token: loss, Count: 3\n",
      "Token: plan, Count: 11\n",
      "Token: heart, Count: 4\n",
      "Token: condit, Count: 24\n",
      "Token: cush, Count: 3\n",
      "Token: excel, Count: 5\n",
      "Token: stabl, Count: 5\n",
      "Token: next, Count: 2\n",
      "Token: slight, Count: 2\n",
      "Token: note, Count: 3\n",
      "Token: first, Count: 4\n",
      "Token: treat, Count: 10\n",
      "Token: slow, Count: 4\n",
      "Token: necessari, Count: 2\n",
      "Token: torn, Count: 1\n",
      "Token: ligament, Count: 1\n",
      "Token: good, Count: 15\n",
      "Token: liver, Count: 1\n",
      "Token: seen, Count: 1\n",
      "Token: tooth, Count: 1\n",
      "Token: quick, Count: 1\n",
      "Token: lyme, Count: 1\n",
      "Token: ongo, Count: 4\n",
      "Token: issu, Count: 15\n",
      "Token: epilepsi, Count: 1\n",
      "Token: fungal, Count: 1\n",
      "Token: pancreat, Count: 1\n",
      "Token: tickborn, Count: 1\n",
      "Token: autoimmun, Count: 1\n",
      "Token: accid, Count: 1\n",
      "Token: urgeri, Count: 1\n",
      "Token: go, Count: 11\n",
      "Token: health, Count: 30\n",
      "Token: postsurgeri, Count: 2\n",
      "Token: went, Count: 6\n",
      "Token: new, Count: 3\n",
      "Token: process, Count: 7\n",
      "Token: gone, Count: 2\n",
      "Token: led, Count: 2\n",
      "Token: due, Count: 2\n",
      "Token: evid, Count: 4\n",
      "Token: result, Count: 9\n",
      "Token: control, Count: 2\n",
      "Token: current, Count: 1\n",
      "Token: underw, Count: 1\n",
      "Token: vet, Count: 1\n",
      "Token: regular, Count: 1\n",
      "Token: done, Count: 1\n",
      "Token: includ, Count: 1\n",
      "Token: rest, Count: 1\n",
      "Token: progress, Count: 18\n",
      "Token: amaz, Count: 5\n",
      "Token: wow, Count: 3\n",
      "Token: significantli, Count: 3\n",
      "Token: keep, Count: 3\n",
      "Token: impress, Count: 4\n",
      "Token: tough, Count: 5\n",
      "Token: situat, Count: 15\n",
      "Token: danger, Count: 3\n",
      "Token: news, Count: 4\n",
      "Token: make, Count: 2\n",
      "Token: produc, Count: 2\n",
      "Token: remark, Count: 3\n",
      "Token: incred, Count: 2\n",
      "Token: let, Count: 2\n",
      "Token: continu, Count: 4\n",
      "Token: momentum, Count: 2\n",
      "Token: outstand, Count: 2\n",
      "Token: unfortun, Count: 2\n",
      "Token: there, Count: 9\n",
      "Token: critic, Count: 4\n",
      "Token: declin, Count: 4\n",
      "Token: persist, Count: 4\n",
      "Token: encount, Count: 1\n",
      "Token: sadli, Count: 1\n",
      "Token: concern, Count: 3\n",
      "Token: hasnt, Count: 5\n",
      "Token: deterior, Count: 4\n",
      "Token: complic, Count: 4\n",
      "Token: arisen, Count: 1\n",
      "Token: experienc, Count: 1\n",
      "Token: discomfort, Count: 2\n",
      "Token: prognosi, Count: 3\n",
      "Token: grim, Count: 1\n",
      "Token: worsen, Count: 4\n",
      "Token: setback, Count: 1\n",
      "Token: seriou, Count: 2\n",
      "Token: emerg, Count: 2\n",
      "Token: outlook, Count: 5\n",
      "Token: bleak, Count: 3\n",
      "Token: fail, Count: 2\n",
      "Token: dire, Count: 4\n",
      "Token: discourag, Count: 2\n",
      "Token: stall, Count: 2\n",
      "Token: distress, Count: 2\n",
      "Token: afflict, Count: 1\n",
      "Token: grave, Count: 1\n",
      "Token: regress, Count: 1\n",
      "Token: dishearten, Count: 1\n",
      "Token: side, Count: 2\n",
      "Token: neg, Count: 2\n",
      "Token: littl, Count: 2\n",
      "Token: rapidli, Count: 2\n",
      "Token: alarm, Count: 1\n",
      "Token: ill, Count: 3\n",
      "Token: toll, Count: 1\n",
      "Token: allevi, Count: 1\n",
      "Token: poor, Count: 2\n",
      "Token: resolut, Count: 1\n",
      "Token: track, Count: 1\n",
      "Token: optimist, Count: 1\n",
      "Token: work, Count: 2\n",
      "Token: wonder, Count: 1\n",
      "Token: encourag, Count: 2\n",
      "Token: steadili, Count: 2\n",
      "Token: steadi, Count: 2\n",
      "Token: resili, Count: 1\n",
      "Token: get, Count: 1\n",
      "Token: better, Count: 1\n",
      "Token: feedback, Count: 2\n",
      "Token: everyth, Count: 1\n",
      "Token: pleas, Count: 1\n",
      "Token: isnt, Count: 1\n",
      "Token: unbear, Count: 1\n",
      "Token: agoni, Count: 1\n",
      "Token: struggl, Count: 1\n",
      "Token: hope, Count: 1\n",
      "Token: urgent, Count: 1\n",
      "Token: action, Count: 1\n",
      "Token: need, Count: 3\n",
      "Token: debilit, Count: 1\n",
      "Token: help, Count: 1\n",
      "Token: uncertain, Count: 3\n",
      "Token: statu, Count: 1\n",
      "Token: unknown, Count: 1\n",
      "Token: unclear, Count: 1\n",
      "Token: time, Count: 1\n",
      "Token: assess, Count: 2\n",
      "Token: unchang, Count: 1\n",
      "Token: timelin, Count: 1\n",
      "Token: waitandse, Count: 1\n",
      "Token: review, Count: 1\n",
      "Token: adjust, Count: 1\n",
      "Token: may, Count: 1\n",
      "Token: inconclus, Count: 1\n",
      "Token: journey, Count: 1\n",
      "Token: challeng, Count: 1\n",
      "Token: daybyday, Count: 1\n",
      "Token: close, Count: 2\n",
      "Token: updat, Count: 1\n",
      "Token: follow, Count: 1\n",
      "Token: path, Count: 1\n",
      "Token: unpredict, Count: 1\n",
      "Token: everi, Count: 1\n",
      "Token: bring, Count: 1\n",
      "Token: develop, Count: 1\n",
      "Token: approach, Count: 1\n",
      "Token: cautiou, Count: 1\n",
      "Token: essenti, Count: 1\n",
      "Token: evalu, Count: 1\n",
      "Token: decis, Count: 1\n",
      "Token: made, Count: 1\n",
      "Token: stabil, Count: 1\n"
     ]
    }
   ],
   "source": [
    "\n",
    "for token in tokens:\n",
    "    print(f\"Token: {token}, Count: {vocab[token]}\")\n"
   ]
  },
  {
   "cell_type": "code",
   "execution_count": 258,
   "id": "dffb3d24",
   "metadata": {},
   "outputs": [],
   "source": [
    "tokens = [key for key in vocab if vocab[key] > 1]"
   ]
  },
  {
   "cell_type": "code",
   "execution_count": 259,
   "id": "58c93ce4",
   "metadata": {},
   "outputs": [
    {
     "data": {
      "text/plain": [
       "235"
      ]
     },
     "execution_count": 259,
     "metadata": {},
     "output_type": "execute_result"
    }
   ],
   "source": [
    "len(tokens)"
   ]
  },
  {
   "cell_type": "code",
   "execution_count": 298,
   "id": "9c67d7a5",
   "metadata": {},
   "outputs": [],
   "source": [
    "def save_vocabulary(lines, filename):\n",
    "    data = '\\n'.join(lines)\n",
    "    with open(filename, 'w', encoding=\"utf-8\") as file:\n",
    "        file.write(data)\n",
    "\n",
    "\n",
    "# Save the tokens to the specified path\n",
    "save_vocabulary(tokens, r'C:\\Users\\Pasidhu\\Desktop\\Dogsentiment_analysis\\need/vocabulary1.txt')\n"
   ]
  },
  {
   "cell_type": "markdown",
   "id": "3c475c44",
   "metadata": {},
   "source": [
    "### Divide dataset "
   ]
  },
  {
   "cell_type": "code",
   "execution_count": 261,
   "id": "9698f4ae",
   "metadata": {},
   "outputs": [],
   "source": [
    "X = data['Review_Text']\n",
    "y = data['Sentiment']"
   ]
  },
  {
   "cell_type": "code",
   "execution_count": 262,
   "id": "e3a107b4-e8a2-49a9-9ec1-455638120bd0",
   "metadata": {},
   "outputs": [
    {
     "name": "stdout",
     "output_type": "stream",
     "text": [
      "Label Encoding Mapping:\n"
     ]
    },
    {
     "data": {
      "text/html": [
       "<div>\n",
       "<style scoped>\n",
       "    .dataframe tbody tr th:only-of-type {\n",
       "        vertical-align: middle;\n",
       "    }\n",
       "\n",
       "    .dataframe tbody tr th {\n",
       "        vertical-align: top;\n",
       "    }\n",
       "\n",
       "    .dataframe thead th {\n",
       "        text-align: right;\n",
       "    }\n",
       "</style>\n",
       "<table border=\"1\" class=\"dataframe\">\n",
       "  <thead>\n",
       "    <tr style=\"text-align: right;\">\n",
       "      <th></th>\n",
       "      <th>Original Sentiment</th>\n",
       "      <th>Encoded Value</th>\n",
       "    </tr>\n",
       "  </thead>\n",
       "  <tbody>\n",
       "    <tr>\n",
       "      <th>0</th>\n",
       "      <td>Negative</td>\n",
       "      <td>0</td>\n",
       "    </tr>\n",
       "    <tr>\n",
       "      <th>1</th>\n",
       "      <td>Neutral</td>\n",
       "      <td>1</td>\n",
       "    </tr>\n",
       "    <tr>\n",
       "      <th>2</th>\n",
       "      <td>Positive</td>\n",
       "      <td>2</td>\n",
       "    </tr>\n",
       "  </tbody>\n",
       "</table>\n",
       "</div>"
      ],
      "text/plain": [
       "  Original Sentiment  Encoded Value\n",
       "0           Negative              0\n",
       "1            Neutral              1\n",
       "2           Positive              2"
      ]
     },
     "execution_count": 262,
     "metadata": {},
     "output_type": "execute_result"
    }
   ],
   "source": [
    "\n",
    "from sklearn.preprocessing import LabelEncoder\n",
    "# Initialize the LabelEncoder\n",
    "label_encoder = LabelEncoder()\n",
    "\n",
    "# Fit and transform the target variable `y`\n",
    "y_encoded = label_encoder.fit_transform(y)\n",
    "\n",
    "# Convert `y_encoded` back to a DataFrame if necessary\n",
    "data['Sentiment_encoded'] = y_encoded\n",
    "\n",
    "# View the original labels and their encoded values\n",
    "label_mapping = pd.DataFrame({\n",
    "    'Original Sentiment': label_encoder.classes_,\n",
    "    'Encoded Value': label_encoder.transform(label_encoder.classes_)\n",
    "})\n",
    "\n",
    "print(\"Label Encoding Mapping:\")\n",
    "label_mapping\n",
    "\n"
   ]
  },
  {
   "cell_type": "code",
   "execution_count": 263,
   "id": "d3aadd87-a438-4e11-9ff5-7f62919a222b",
   "metadata": {},
   "outputs": [
    {
     "data": {
      "text/plain": [
       "array([2, 2, 2, 0, 2, 2, 2, 0, 2, 2, 2, 0, 2, 2, 2, 2, 0, 2, 2, 2, 0, 2,\n",
       "       2, 2, 0, 2, 2, 2, 2, 0, 2, 2, 2, 0, 2, 2, 2, 0, 2, 2, 2, 2, 0, 2,\n",
       "       2, 2, 0, 2, 2, 2, 0, 2, 2, 2, 2, 0, 2, 2, 2, 0, 2, 2, 2, 0, 2, 2,\n",
       "       2, 2, 0, 2, 2, 2, 0, 2, 2, 2, 0, 2, 2, 2, 2, 0, 2, 2, 2, 0, 2, 2,\n",
       "       2, 0, 2, 2, 2, 2, 0, 2, 2, 2, 0, 2, 2, 2, 0, 2, 2, 2, 2, 0, 2, 2,\n",
       "       2, 0, 2, 2, 2, 0, 2, 2, 2, 2, 0, 2, 2, 2, 0, 2, 2, 2, 0, 2, 2, 2,\n",
       "       2, 0, 2, 2, 2, 0, 2, 0, 2, 2, 2, 2, 2, 2, 2, 2, 2, 2, 2, 1, 2, 1,\n",
       "       2, 0, 1, 2, 1, 2, 0, 1, 0, 1, 2, 1, 1, 1, 1, 0, 1, 2, 1, 2, 0, 1,\n",
       "       2, 1, 2, 0, 1, 0, 1, 2, 2, 0, 2, 2, 1, 2, 1, 2, 1, 2, 2, 1, 2, 2,\n",
       "       1, 2, 1, 1, 1, 1, 2, 1, 2, 2, 1, 2, 0, 1, 2, 1, 1, 1, 1, 0, 1, 2,\n",
       "       1, 2, 0, 1, 2, 1, 2, 2, 2, 2, 0, 2, 2, 2, 0, 2, 2, 2, 0, 2, 2, 0,\n",
       "       2, 2, 2, 2, 2, 2, 2, 2, 2, 2, 2, 1, 2, 1, 2, 0, 1, 2, 1, 2, 0, 1,\n",
       "       0, 1, 2, 1, 1, 1, 1, 0, 1, 2, 1, 2, 0, 1, 2, 1, 2, 2, 1, 0, 2, 2,\n",
       "       0, 2, 0, 2, 2, 0, 2, 0, 2, 0, 2, 0, 0, 2, 0, 2, 0, 2, 0, 2, 0, 2,\n",
       "       1, 0, 2, 2, 0, 2, 2, 2, 0, 2, 0, 2, 2, 0, 2, 0, 2, 0, 2, 0, 2, 0,\n",
       "       2, 0, 2, 1, 0, 2, 2, 0, 2, 0, 2, 2, 0, 2, 0, 2, 0, 2, 0, 0, 2, 0,\n",
       "       2, 0, 2, 0, 2, 0, 1, 1, 0, 2, 2, 0, 2, 2, 1, 0, 2, 0, 2, 2, 0, 2,\n",
       "       0, 2, 0, 2, 0, 2, 0, 2, 0, 1, 1, 1, 1, 1, 1, 1, 2, 2, 2, 2, 2, 0,\n",
       "       0, 0, 0, 0, 2, 2, 2, 2, 2, 2, 2, 2, 2, 2, 0, 0, 0, 0, 0, 0, 0, 0,\n",
       "       0, 0, 2, 2, 2, 2, 2, 2, 2, 2, 2, 2, 0, 0, 0, 0, 0, 0, 0, 0, 0, 0,\n",
       "       0, 0, 0, 0, 0, 0, 0, 0, 0, 0, 0, 0, 0, 0, 0, 2, 2, 2, 2, 2, 2, 2,\n",
       "       2, 2, 2, 0, 0, 0, 0, 0, 0, 0, 0, 0, 0, 0, 0, 0, 0, 0, 0, 0, 0, 0,\n",
       "       1, 1, 1, 1, 1, 1, 1, 1, 1, 1, 1, 1, 1, 1, 1, 1, 1, 1, 2, 2, 2, 2])"
      ]
     },
     "execution_count": 263,
     "metadata": {},
     "output_type": "execute_result"
    }
   ],
   "source": [
    "y_encoded\n"
   ]
  },
  {
   "cell_type": "code",
   "execution_count": 264,
   "id": "c479ebc2",
   "metadata": {},
   "outputs": [
    {
     "name": "stdout",
     "output_type": "stream",
     "text": [
      "Defaulting to user installation because normal site-packages is not writeable"
     ]
    },
    {
     "name": "stderr",
     "output_type": "stream",
     "text": [
      "\n",
      "[notice] A new release of pip is available: 24.1 -> 24.1.2\n",
      "[notice] To update, run: python.exe -m pip install --upgrade pip\n"
     ]
    },
    {
     "name": "stdout",
     "output_type": "stream",
     "text": [
      "\n",
      "Requirement already satisfied: scikit-learn in c:\\users\\pasidhu\\appdata\\roaming\\python\\python312\\site-packages (1.5.0)\n",
      "Requirement already satisfied: numpy>=1.19.5 in c:\\users\\pasidhu\\appdata\\roaming\\python\\python312\\site-packages (from scikit-learn) (1.26.4)\n",
      "Requirement already satisfied: scipy>=1.6.0 in c:\\users\\pasidhu\\appdata\\roaming\\python\\python312\\site-packages (from scikit-learn) (1.13.1)\n",
      "Requirement already satisfied: joblib>=1.2.0 in c:\\users\\pasidhu\\appdata\\roaming\\python\\python312\\site-packages (from scikit-learn) (1.4.0)\n",
      "Requirement already satisfied: threadpoolctl>=3.1.0 in c:\\users\\pasidhu\\appdata\\roaming\\python\\python312\\site-packages (from scikit-learn) (3.5.0)\n"
     ]
    }
   ],
   "source": [
    "!pip install scikit-learn"
   ]
  },
  {
   "cell_type": "code",
   "execution_count": 265,
   "id": "27c65cf7",
   "metadata": {},
   "outputs": [],
   "source": [
    "from sklearn.model_selection import train_test_split\n",
    "X_train, X_test, y_train, y_test = train_test_split(X,y_encoded, test_size=0.2)"
   ]
  },
  {
   "cell_type": "code",
   "execution_count": 266,
   "id": "d6c2fd89",
   "metadata": {},
   "outputs": [
    {
     "data": {
      "text/plain": [
       "31      dog bad reaction flea treatment recov within day\n",
       "53           dog mild case conjunct recoveri within week\n",
       "250    dog suffer heatstrok recov fulli immedi treatm...\n",
       "415             unfortun there improv dog recoveri tough\n",
       "228          dog mild case conjunct recoveri within week\n",
       "                             ...                        \n",
       "139    dog suffer hip dysplasia recoveri expect take ...\n",
       "175            dog flea tick start parasit prevent medic\n",
       "494           recoveri journey challeng daybyday process\n",
       "32      dog mild case mang recoveri took three week fine\n",
       "402                  wow dog health improv significantli\n",
       "Name: Review_Text, Length: 404, dtype: object"
      ]
     },
     "execution_count": 266,
     "metadata": {},
     "output_type": "execute_result"
    }
   ],
   "source": [
    "X_train"
   ]
  },
  {
   "cell_type": "code",
   "execution_count": 267,
   "id": "458e6097",
   "metadata": {},
   "outputs": [
    {
     "data": {
      "text/plain": [
       "34     dog sever case pneumonia recoveri took one mon...\n",
       "105          dog mild case conjunct recoveri within week\n",
       "476                           dog condit worsen distress\n",
       "411                        situat danger dog health good\n",
       "181    dog diagnos cancer treatment option discuss owner\n",
       "                             ...                        \n",
       "122     dog bad reaction flea treatment recov within day\n",
       "237          dog respiratori infect recov fulli two week\n",
       "471                    dog health hasnt improv discourag\n",
       "130    dog surgeri tumor recoveri expect two month sh...\n",
       "6       dog mild case mang recoveri took three week fine\n",
       "Name: Review_Text, Length: 102, dtype: object"
      ]
     },
     "execution_count": 267,
     "metadata": {},
     "output_type": "execute_result"
    }
   ],
   "source": [
    "X_test"
   ]
  },
  {
   "cell_type": "code",
   "execution_count": 268,
   "id": "06937d5c",
   "metadata": {},
   "outputs": [
    {
     "data": {
      "text/plain": [
       "array([2, 2, 2, 0, 2, 0, 1, 2, 2, 2, 1, 2, 1, 2, 0, 0, 2, 2, 2, 2, 2, 1,\n",
       "       2, 1, 1, 0, 1, 1, 2, 0, 0, 2, 0, 2, 1, 2, 1, 2, 1, 0, 0, 1, 1, 2,\n",
       "       2, 0, 2, 2, 2, 2, 0, 0, 0, 2, 2, 1, 0, 0, 0, 0, 2, 2, 2, 2, 2, 2,\n",
       "       0, 0, 0, 2, 0, 0, 2, 0, 0, 2, 2, 0, 0, 2, 2, 0, 1, 0, 0, 2, 0, 2,\n",
       "       2, 2, 0, 0, 2, 1, 2, 2, 2, 2, 0, 2, 2, 0, 1, 2, 2, 2, 1, 2, 2, 1,\n",
       "       2, 2, 2, 2, 2, 1, 0, 0, 2, 2, 0, 2, 0, 2, 2, 2, 1, 2, 0, 1, 0, 2,\n",
       "       1, 0, 2, 2, 1, 0, 1, 0, 2, 2, 2, 2, 2, 2, 2, 2, 2, 0, 2, 2, 2, 2,\n",
       "       1, 0, 2, 2, 1, 0, 2, 0, 2, 2, 0, 2, 1, 2, 2, 2, 1, 2, 2, 0, 0, 1,\n",
       "       2, 2, 2, 1, 0, 2, 0, 2, 1, 1, 2, 2, 2, 0, 2, 0, 0, 2, 0, 0, 2, 1,\n",
       "       1, 0, 2, 2, 0, 2, 0, 2, 1, 1, 2, 1, 0, 2, 0, 0, 2, 2, 2, 2, 2, 2,\n",
       "       1, 0, 2, 0, 0, 2, 2, 0, 2, 0, 2, 2, 2, 1, 0, 2, 2, 2, 0, 2, 2, 2,\n",
       "       2, 0, 0, 0, 2, 0, 1, 2, 2, 1, 0, 2, 2, 0, 1, 2, 2, 0, 2, 0, 1, 1,\n",
       "       1, 2, 2, 2, 2, 2, 0, 2, 2, 2, 2, 1, 0, 2, 0, 2, 2, 2, 0, 0, 2, 2,\n",
       "       0, 0, 1, 0, 1, 2, 2, 1, 2, 0, 0, 1, 1, 2, 1, 2, 0, 2, 2, 1, 2, 2,\n",
       "       1, 0, 1, 2, 0, 2, 0, 0, 0, 0, 2, 0, 2, 0, 1, 2, 1, 0, 2, 1, 2, 2,\n",
       "       0, 0, 1, 1, 0, 2, 1, 0, 2, 2, 0, 0, 2, 2, 2, 2, 2, 2, 0, 2, 1, 1,\n",
       "       2, 1, 0, 1, 2, 2, 2, 0, 2, 2, 2, 0, 0, 2, 1, 2, 1, 0, 2, 2, 0, 1,\n",
       "       0, 2, 2, 2, 2, 0, 0, 2, 2, 0, 0, 2, 0, 2, 2, 1, 0, 2, 0, 2, 0, 0,\n",
       "       0, 2, 2, 0, 1, 1, 2, 2])"
      ]
     },
     "execution_count": 268,
     "metadata": {},
     "output_type": "execute_result"
    }
   ],
   "source": [
    "y_train"
   ]
  },
  {
   "cell_type": "markdown",
   "id": "89f7b89c",
   "metadata": {},
   "source": [
    "### Vectorization "
   ]
  },
  {
   "cell_type": "code",
   "execution_count": 269,
   "id": "4261d251-a296-4973-afdd-28943960f1e0",
   "metadata": {},
   "outputs": [
    {
     "name": "stdout",
     "output_type": "stream",
     "text": [
      "[[1. 0. 0. ... 0. 0. 0.]\n",
      " [1. 0. 0. ... 0. 0. 0.]\n",
      " [1. 0. 0. ... 0. 0. 0.]\n",
      " ...\n",
      " [0. 0. 0. ... 0. 0. 0.]\n",
      " [1. 0. 0. ... 0. 0. 0.]\n",
      " [1. 0. 0. ... 0. 0. 0.]]\n"
     ]
    }
   ],
   "source": [
    "import numpy as np\n",
    "\n",
    "def vectorizer(ds, vocabulary):\n",
    "    vectorized_lst = []\n",
    "    \n",
    "    for sentence in ds:\n",
    "        sentence_lst = np.zeros(len(vocabulary))\n",
    "        \n",
    "        for i in range(len(vocabulary)):\n",
    "            if vocabulary[i] in sentence.split():\n",
    "                sentence_lst[i] = 1\n",
    "        \n",
    "        vectorized_lst.append(sentence_lst)\n",
    "    \n",
    "    return np.array(vectorized_lst)\n",
    "\n",
    "# Example usage\n",
    "# Assuming `X_train` is your dataset and `tokens` is your vocabulary list\n",
    "vectorized_x_train = vectorizer(X_train, tokens)\n",
    "print(vectorized_x_train)\n"
   ]
  },
  {
   "cell_type": "code",
   "execution_count": 270,
   "id": "81d288bb",
   "metadata": {},
   "outputs": [],
   "source": [
    "vectorized_x_train = vectorizer(X_train, tokens)"
   ]
  },
  {
   "cell_type": "code",
   "execution_count": 271,
   "id": "7a978100",
   "metadata": {},
   "outputs": [],
   "source": [
    "vectorized_x_test = vectorizer(X_test, tokens)"
   ]
  },
  {
   "cell_type": "code",
   "execution_count": 272,
   "id": "e65f0106",
   "metadata": {},
   "outputs": [
    {
     "data": {
      "text/plain": [
       "array([[1., 0., 0., ..., 0., 0., 0.],\n",
       "       [1., 0., 0., ..., 0., 0., 0.],\n",
       "       [1., 0., 0., ..., 0., 0., 0.],\n",
       "       ...,\n",
       "       [0., 0., 0., ..., 0., 0., 0.],\n",
       "       [1., 0., 0., ..., 0., 0., 0.],\n",
       "       [1., 0., 0., ..., 0., 0., 0.]])"
      ]
     },
     "execution_count": 272,
     "metadata": {},
     "output_type": "execute_result"
    }
   ],
   "source": [
    "vectorized_x_train"
   ]
  },
  {
   "cell_type": "code",
   "execution_count": 273,
   "id": "c4c2a831",
   "metadata": {},
   "outputs": [
    {
     "data": {
      "text/plain": [
       "array([2, 2, 2, 0, 2, 0, 1, 2, 2, 2, 1, 2, 1, 2, 0, 0, 2, 2, 2, 2, 2, 1,\n",
       "       2, 1, 1, 0, 1, 1, 2, 0, 0, 2, 0, 2, 1, 2, 1, 2, 1, 0, 0, 1, 1, 2,\n",
       "       2, 0, 2, 2, 2, 2, 0, 0, 0, 2, 2, 1, 0, 0, 0, 0, 2, 2, 2, 2, 2, 2,\n",
       "       0, 0, 0, 2, 0, 0, 2, 0, 0, 2, 2, 0, 0, 2, 2, 0, 1, 0, 0, 2, 0, 2,\n",
       "       2, 2, 0, 0, 2, 1, 2, 2, 2, 2, 0, 2, 2, 0, 1, 2, 2, 2, 1, 2, 2, 1,\n",
       "       2, 2, 2, 2, 2, 1, 0, 0, 2, 2, 0, 2, 0, 2, 2, 2, 1, 2, 0, 1, 0, 2,\n",
       "       1, 0, 2, 2, 1, 0, 1, 0, 2, 2, 2, 2, 2, 2, 2, 2, 2, 0, 2, 2, 2, 2,\n",
       "       1, 0, 2, 2, 1, 0, 2, 0, 2, 2, 0, 2, 1, 2, 2, 2, 1, 2, 2, 0, 0, 1,\n",
       "       2, 2, 2, 1, 0, 2, 0, 2, 1, 1, 2, 2, 2, 0, 2, 0, 0, 2, 0, 0, 2, 1,\n",
       "       1, 0, 2, 2, 0, 2, 0, 2, 1, 1, 2, 1, 0, 2, 0, 0, 2, 2, 2, 2, 2, 2,\n",
       "       1, 0, 2, 0, 0, 2, 2, 0, 2, 0, 2, 2, 2, 1, 0, 2, 2, 2, 0, 2, 2, 2,\n",
       "       2, 0, 0, 0, 2, 0, 1, 2, 2, 1, 0, 2, 2, 0, 1, 2, 2, 0, 2, 0, 1, 1,\n",
       "       1, 2, 2, 2, 2, 2, 0, 2, 2, 2, 2, 1, 0, 2, 0, 2, 2, 2, 0, 0, 2, 2,\n",
       "       0, 0, 1, 0, 1, 2, 2, 1, 2, 0, 0, 1, 1, 2, 1, 2, 0, 2, 2, 1, 2, 2,\n",
       "       1, 0, 1, 2, 0, 2, 0, 0, 0, 0, 2, 0, 2, 0, 1, 2, 1, 0, 2, 1, 2, 2,\n",
       "       0, 0, 1, 1, 0, 2, 1, 0, 2, 2, 0, 0, 2, 2, 2, 2, 2, 2, 0, 2, 1, 1,\n",
       "       2, 1, 0, 1, 2, 2, 2, 0, 2, 2, 2, 0, 0, 2, 1, 2, 1, 0, 2, 2, 0, 1,\n",
       "       0, 2, 2, 2, 2, 0, 0, 2, 2, 0, 0, 2, 0, 2, 2, 1, 0, 2, 0, 2, 0, 0,\n",
       "       0, 2, 2, 0, 1, 1, 2, 2])"
      ]
     },
     "execution_count": 273,
     "metadata": {},
     "output_type": "execute_result"
    }
   ],
   "source": [
    "y_train"
   ]
  },
  {
   "cell_type": "code",
   "execution_count": 274,
   "id": "e660131f",
   "metadata": {},
   "outputs": [
    {
     "data": {
      "text/plain": [
       "array([[1., 0., 0., ..., 0., 0., 0.],\n",
       "       [1., 0., 0., ..., 0., 0., 0.],\n",
       "       [1., 0., 0., ..., 0., 0., 0.],\n",
       "       ...,\n",
       "       [1., 0., 0., ..., 0., 0., 0.],\n",
       "       [1., 1., 1., ..., 0., 0., 0.],\n",
       "       [1., 0., 0., ..., 0., 0., 0.]])"
      ]
     },
     "execution_count": 274,
     "metadata": {},
     "output_type": "execute_result"
    }
   ],
   "source": [
    "vectorized_x_test"
   ]
  },
  {
   "cell_type": "code",
   "execution_count": 275,
   "id": "d7bf543d",
   "metadata": {},
   "outputs": [
    {
     "data": {
      "text/plain": [
       "array([2, 2, 0, 0, 0, 0, 0, 2, 0, 0, 0, 2, 2, 0, 2, 2, 2, 0, 0, 1, 0, 0,\n",
       "       2, 0, 2, 2, 2, 1, 0, 2, 1, 1, 2, 0, 2, 0, 2, 0, 2, 0, 0, 0, 2, 1,\n",
       "       1, 2, 2, 2, 2, 2, 0, 1, 2, 2, 0, 2, 0, 2, 2, 2, 2, 0, 2, 2, 2, 2,\n",
       "       2, 2, 2, 2, 2, 0, 0, 2, 1, 2, 1, 2, 2, 0, 2, 2, 0, 0, 2, 2, 2, 2,\n",
       "       2, 2, 2, 2, 2, 2, 0, 2, 2, 2, 2, 0, 2, 2])"
      ]
     },
     "execution_count": 275,
     "metadata": {},
     "output_type": "execute_result"
    }
   ],
   "source": [
    "y_test"
   ]
  },
  {
   "cell_type": "code",
   "execution_count": 276,
   "id": "39239bd6",
   "metadata": {},
   "outputs": [
    {
     "name": "stdout",
     "output_type": "stream",
     "text": [
      "2    208\n",
      "0    124\n",
      "1     72\n",
      "Name: count, dtype: int64\n"
     ]
    }
   ],
   "source": [
    "import pandas as pd\n",
    "\n",
    "# Convert y_train to a pandas Series\n",
    "y_train_series = pd.Series(y_train)\n",
    "\n",
    "# Now you can use value_counts\n",
    "print(y_train_series.value_counts())\n"
   ]
  },
  {
   "cell_type": "code",
   "execution_count": 277,
   "id": "53e00be0",
   "metadata": {},
   "outputs": [
    {
     "data": {
      "image/png": "[encoded data removed]",
      "text/plain": [
       "<Figure size 640x480 with 1 Axes>"
      ]
     },
     "metadata": {},
     "output_type": "display_data"
    }
   ],
   "source": [
    "import matplotlib.pyplot as plt\n",
    "import pandas as pd\n",
    "import numpy as np\n",
    "\n",
    "# Assuming y_train is a pandas Series\n",
    "# or if y_train is a numpy array, convert it to a pandas Series\n",
    "y_train_series = pd.Series(y_train)\n",
    "\n",
    "# Count the values\n",
    "value_counts = y_train_series.value_counts()\n",
    "\n",
    "# Plotting the pie chart\n",
    "plt.pie(value_counts, labels=value_counts.index, autopct='%1.1f%%')\n",
    "plt.title('Distribution of Sentiment in y_train')\n",
    "plt.show()\n"
   ]
  },
  {
   "cell_type": "markdown",
   "id": "f08308ff",
   "metadata": {},
   "source": [
    "### Handle imbalanced dataset "
   ]
  },
  {
   "cell_type": "code",
   "execution_count": 278,
   "id": "b1f6933f",
   "metadata": {},
   "outputs": [
    {
     "name": "stdout",
     "output_type": "stream",
     "text": [
      "Defaulting to user installation because normal site-packages is not writeable\n",
      "Requirement already satisfied: imbalanced-learn in c:\\users\\pasidhu\\appdata\\roaming\\python\\python312\\site-packages (0.12.3)\n",
      "Requirement already satisfied: numpy>=1.17.3 in c:\\users\\pasidhu\\appdata\\roaming\\python\\python312\\site-packages (from imbalanced-learn) (1.26.4)\n",
      "Requirement already satisfied: scipy>=1.5.0 in c:\\users\\pasidhu\\appdata\\roaming\\python\\python312\\site-packages (from imbalanced-learn) (1.13.1)\n",
      "Requirement already satisfied: scikit-learn>=1.0.2 in c:\\users\\pasidhu\\appdata\\roaming\\python\\python312\\site-packages (from imbalanced-learn) (1.5.0)\n",
      "Requirement already satisfied: joblib>=1.1.1 in c:\\users\\pasidhu\\appdata\\roaming\\python\\python312\\site-packages (from imbalanced-learn) (1.4.0)\n",
      "Requirement already satisfied: threadpoolctl>=2.0.0 in c:\\users\\pasidhu\\appdata\\roaming\\python\\python312\\site-packages (from imbalanced-learn) (3.5.0)\n"
     ]
    },
    {
     "name": "stderr",
     "output_type": "stream",
     "text": [
      "\n",
      "[notice] A new release of pip is available: 24.1 -> 24.1.2\n",
      "[notice] To update, run: python.exe -m pip install --upgrade pip\n"
     ]
    }
   ],
   "source": [
    "!pip install imbalanced-learn"
   ]
  },
  {
   "cell_type": "code",
   "execution_count": 279,
   "id": "69fce848",
   "metadata": {},
   "outputs": [
    {
     "name": "stdout",
     "output_type": "stream",
     "text": [
      "(624, 235) (624,)\n"
     ]
    }
   ],
   "source": [
    "from imblearn.over_sampling import SMOTE\n",
    "smote = SMOTE()\n",
    "vectorized_x_train_smote, y_train_smote = smote.fit_resample(vectorized_x_train, y_train)\n",
    "print(vectorized_x_train_smote.shape, y_train_smote.shape)"
   ]
  },
  {
   "cell_type": "code",
   "execution_count": 280,
   "id": "800fba74",
   "metadata": {},
   "outputs": [
    {
     "name": "stdout",
     "output_type": "stream",
     "text": [
      "0: 208\n",
      "1: 208\n",
      "2: 208\n"
     ]
    }
   ],
   "source": [
    "import numpy as np\n",
    "\n",
    "# Assuming y_train_smote is a numpy array\n",
    "unique, counts = np.unique(y_train_smote, return_counts=True)\n",
    "\n",
    "# Print unique values and their counts\n",
    "for label, count in zip(unique, counts):\n",
    "    print(f'{label}: {count}')\n"
   ]
  },
  {
   "cell_type": "code",
   "execution_count": 281,
   "id": "4e32afe0",
   "metadata": {},
   "outputs": [
    {
     "data": {
      "image/png": "[encoded data removed]",
      "text/plain": [
       "<Figure size 640x480 with 1 Axes>"
      ]
     },
     "metadata": {},
     "output_type": "display_data"
    }
   ],
   "source": [
    "import numpy as np\n",
    "import matplotlib.pyplot as plt\n",
    "# Plotting the pie chart\n",
    "plt.pie(counts, labels=unique, autopct='%1.1f%%')\n",
    "plt.title('Distribution of Classes in y_train_smote')\n",
    "plt.show()"
   ]
  },
  {
   "cell_type": "code",
   "execution_count": 282,
   "id": "88e5b540",
   "metadata": {},
   "outputs": [
    {
     "data": {
      "text/plain": [
       "array([[1., 0., 0., ..., 0., 0., 0.],\n",
       "       [1., 0., 0., ..., 0., 0., 0.],\n",
       "       [1., 0., 0., ..., 0., 0., 0.],\n",
       "       ...,\n",
       "       [1., 0., 0., ..., 0., 0., 0.],\n",
       "       [1., 0., 0., ..., 0., 0., 0.],\n",
       "       [1., 1., 1., ..., 0., 0., 0.]])"
      ]
     },
     "execution_count": 282,
     "metadata": {},
     "output_type": "execute_result"
    }
   ],
   "source": [
    "vectorized_x_train_smote"
   ]
  },
  {
   "cell_type": "code",
   "execution_count": 283,
   "id": "a758447f",
   "metadata": {},
   "outputs": [
    {
     "data": {
      "text/plain": [
       "array([2, 2, 2, 0, 2, 0, 1, 2, 2, 2, 1, 2, 1, 2, 0, 0, 2, 2, 2, 2, 2, 1,\n",
       "       2, 1, 1, 0, 1, 1, 2, 0, 0, 2, 0, 2, 1, 2, 1, 2, 1, 0, 0, 1, 1, 2,\n",
       "       2, 0, 2, 2, 2, 2, 0, 0, 0, 2, 2, 1, 0, 0, 0, 0, 2, 2, 2, 2, 2, 2,\n",
       "       0, 0, 0, 2, 0, 0, 2, 0, 0, 2, 2, 0, 0, 2, 2, 0, 1, 0, 0, 2, 0, 2,\n",
       "       2, 2, 0, 0, 2, 1, 2, 2, 2, 2, 0, 2, 2, 0, 1, 2, 2, 2, 1, 2, 2, 1,\n",
       "       2, 2, 2, 2, 2, 1, 0, 0, 2, 2, 0, 2, 0, 2, 2, 2, 1, 2, 0, 1, 0, 2,\n",
       "       1, 0, 2, 2, 1, 0, 1, 0, 2, 2, 2, 2, 2, 2, 2, 2, 2, 0, 2, 2, 2, 2,\n",
       "       1, 0, 2, 2, 1, 0, 2, 0, 2, 2, 0, 2, 1, 2, 2, 2, 1, 2, 2, 0, 0, 1,\n",
       "       2, 2, 2, 1, 0, 2, 0, 2, 1, 1, 2, 2, 2, 0, 2, 0, 0, 2, 0, 0, 2, 1,\n",
       "       1, 0, 2, 2, 0, 2, 0, 2, 1, 1, 2, 1, 0, 2, 0, 0, 2, 2, 2, 2, 2, 2,\n",
       "       1, 0, 2, 0, 0, 2, 2, 0, 2, 0, 2, 2, 2, 1, 0, 2, 2, 2, 0, 2, 2, 2,\n",
       "       2, 0, 0, 0, 2, 0, 1, 2, 2, 1, 0, 2, 2, 0, 1, 2, 2, 0, 2, 0, 1, 1,\n",
       "       1, 2, 2, 2, 2, 2, 0, 2, 2, 2, 2, 1, 0, 2, 0, 2, 2, 2, 0, 0, 2, 2,\n",
       "       0, 0, 1, 0, 1, 2, 2, 1, 2, 0, 0, 1, 1, 2, 1, 2, 0, 2, 2, 1, 2, 2,\n",
       "       1, 0, 1, 2, 0, 2, 0, 0, 0, 0, 2, 0, 2, 0, 1, 2, 1, 0, 2, 1, 2, 2,\n",
       "       0, 0, 1, 1, 0, 2, 1, 0, 2, 2, 0, 0, 2, 2, 2, 2, 2, 2, 0, 2, 1, 1,\n",
       "       2, 1, 0, 1, 2, 2, 2, 0, 2, 2, 2, 0, 0, 2, 1, 2, 1, 0, 2, 2, 0, 1,\n",
       "       0, 2, 2, 2, 2, 0, 0, 2, 2, 0, 0, 2, 0, 2, 2, 1, 0, 2, 0, 2, 0, 0,\n",
       "       0, 2, 2, 0, 1, 1, 2, 2, 0, 0, 0, 0, 0, 0, 0, 0, 0, 0, 0, 0, 0, 0,\n",
       "       0, 0, 0, 0, 0, 0, 0, 0, 0, 0, 0, 0, 0, 0, 0, 0, 0, 0, 0, 0, 0, 0,\n",
       "       0, 0, 0, 0, 0, 0, 0, 0, 0, 0, 0, 0, 0, 0, 0, 0, 0, 0, 0, 0, 0, 0,\n",
       "       0, 0, 0, 0, 0, 0, 0, 0, 0, 0, 0, 0, 0, 0, 0, 0, 0, 0, 0, 0, 0, 0,\n",
       "       0, 0, 0, 0, 1, 1, 1, 1, 1, 1, 1, 1, 1, 1, 1, 1, 1, 1, 1, 1, 1, 1,\n",
       "       1, 1, 1, 1, 1, 1, 1, 1, 1, 1, 1, 1, 1, 1, 1, 1, 1, 1, 1, 1, 1, 1,\n",
       "       1, 1, 1, 1, 1, 1, 1, 1, 1, 1, 1, 1, 1, 1, 1, 1, 1, 1, 1, 1, 1, 1,\n",
       "       1, 1, 1, 1, 1, 1, 1, 1, 1, 1, 1, 1, 1, 1, 1, 1, 1, 1, 1, 1, 1, 1,\n",
       "       1, 1, 1, 1, 1, 1, 1, 1, 1, 1, 1, 1, 1, 1, 1, 1, 1, 1, 1, 1, 1, 1,\n",
       "       1, 1, 1, 1, 1, 1, 1, 1, 1, 1, 1, 1, 1, 1, 1, 1, 1, 1, 1, 1, 1, 1,\n",
       "       1, 1, 1, 1, 1, 1, 1, 1])"
      ]
     },
     "execution_count": 283,
     "metadata": {},
     "output_type": "execute_result"
    }
   ],
   "source": [
    "y_train_smote"
   ]
  },
  {
   "cell_type": "code",
   "execution_count": 284,
   "id": "ee9c38c8",
   "metadata": {},
   "outputs": [
    {
     "data": {
      "text/plain": [
       "array([[1., 0., 0., ..., 0., 0., 0.],\n",
       "       [1., 0., 0., ..., 0., 0., 0.],\n",
       "       [1., 0., 0., ..., 0., 0., 0.],\n",
       "       ...,\n",
       "       [1., 0., 0., ..., 0., 0., 0.],\n",
       "       [1., 1., 1., ..., 0., 0., 0.],\n",
       "       [1., 0., 0., ..., 0., 0., 0.]])"
      ]
     },
     "execution_count": 284,
     "metadata": {},
     "output_type": "execute_result"
    }
   ],
   "source": [
    "vectorized_x_test"
   ]
  },
  {
   "cell_type": "code",
   "execution_count": 285,
   "id": "e806fc43",
   "metadata": {},
   "outputs": [
    {
     "data": {
      "text/plain": [
       "array([2, 2, 0, 0, 0, 0, 0, 2, 0, 0, 0, 2, 2, 0, 2, 2, 2, 0, 0, 1, 0, 0,\n",
       "       2, 0, 2, 2, 2, 1, 0, 2, 1, 1, 2, 0, 2, 0, 2, 0, 2, 0, 0, 0, 2, 1,\n",
       "       1, 2, 2, 2, 2, 2, 0, 1, 2, 2, 0, 2, 0, 2, 2, 2, 2, 0, 2, 2, 2, 2,\n",
       "       2, 2, 2, 2, 2, 0, 0, 2, 1, 2, 1, 2, 2, 0, 2, 2, 0, 0, 2, 2, 2, 2,\n",
       "       2, 2, 2, 2, 2, 2, 0, 2, 2, 2, 2, 0, 2, 2])"
      ]
     },
     "execution_count": 285,
     "metadata": {},
     "output_type": "execute_result"
    }
   ],
   "source": [
    "y_test"
   ]
  },
  {
   "cell_type": "markdown",
   "id": "59c195c9",
   "metadata": {},
   "source": [
    "## Model Training and Evaluation "
   ]
  },
  {
   "cell_type": "code",
   "execution_count": 286,
   "id": "88118a14",
   "metadata": {},
   "outputs": [],
   "source": [
    "from sklearn.linear_model import LogisticRegression\n",
    "from sklearn.naive_bayes import MultinomialNB\n",
    "from sklearn.tree import DecisionTreeClassifier\n",
    "from sklearn.ensemble import RandomForestClassifier\n",
    "from sklearn.svm import SVC"
   ]
  },
  {
   "cell_type": "code",
   "execution_count": 287,
   "id": "6ecdd93b",
   "metadata": {},
   "outputs": [],
   "source": [
    "from sklearn.metrics import accuracy_score, f1_score, precision_score, recall_score\n",
    "\n",
    "def training_scores(y_act, y_pred):\n",
    "    acc = round(accuracy_score(y_act, y_pred), 3)\n",
    "    pr = round(precision_score(y_act, y_pred), 3)\n",
    "    rec = round(recall_score(y_act, y_pred), 3)\n",
    "    f1 = round(f1_score(y_act, y_pred), 3)\n",
    "    print(f'Training Scores:\\n\\tAccuracy = {acc}\\n\\tPrecision = {pr}\\n\\tRecall = {rec}\\n\\tF1-Score = {f1}')\n",
    "    \n",
    "def validation_scores(y_act, y_pred):\n",
    "    acc = round(accuracy_score(y_act, y_pred), 3)\n",
    "    pr = round(precision_score(y_act, y_pred), 3)\n",
    "    rec = round(recall_score(y_act, y_pred), 3)\n",
    "    f1 = round(f1_score(y_act, y_pred), 3)\n",
    "    print(f'Testing Scores:\\n\\tAccuracy = {acc}\\n\\tPrecision = {pr}\\n\\tRecall = {rec}\\n\\tF1-Score = {f1}')"
   ]
  },
  {
   "cell_type": "code",
   "execution_count": 288,
   "id": "ffd419d9-b52c-4bcd-a6d6-4d07594ce0ee",
   "metadata": {},
   "outputs": [],
   "source": [
    "from sklearn.metrics import accuracy_score, precision_score, recall_score, f1_score\n",
    "\n",
    "def training_scores(y_act, y_pred):\n",
    "    acc = round(accuracy_score(y_act, y_pred), 3)\n",
    "    pr = round(precision_score(y_act, y_pred, average='weighted'), 3)  # Adjust average as needed\n",
    "    rec = round(recall_score(y_act, y_pred, average='weighted'), 3)     # Adjust average as needed\n",
    "    f1 = round(f1_score(y_act, y_pred, average='weighted'), 3)          # Adjust average as needed\n",
    "    print(f\"Accuracy: {acc}, Precision: {pr}, Recall: {rec}, F1-score: {f1}\")\n",
    "\n",
    "def validation_scores(y_act, y_pred):\n",
    "    acc = round(accuracy_score(y_act, y_pred), 3)\n",
    "    pr = round(precision_score(y_act, y_pred, average='weighted'), 3)  # Adjust average as needed\n",
    "    rec = round(recall_score(y_act, y_pred, average='weighted'), 3)     # Adjust average as needed\n",
    "    f1 = round(f1_score(y_act, y_pred, average='weighted'), 3)          # Adjust average as needed\n",
    "    print(f\"Accuracy: {acc}, Precision: {pr}, Recall: {rec}, F1-score: {f1}\")\n",
    "\n"
   ]
  },
  {
   "cell_type": "markdown",
   "id": "f43d22e5",
   "metadata": {},
   "source": [
    "### Logistic Regression "
   ]
  },
  {
   "cell_type": "code",
   "execution_count": 289,
   "id": "c07abf3d",
   "metadata": {},
   "outputs": [
    {
     "name": "stdout",
     "output_type": "stream",
     "text": [
      "Accuracy: 0.995, Precision: 0.995, Recall: 0.995, F1-score: 0.995\n",
      "Accuracy: 0.971, Precision: 0.971, Recall: 0.971, F1-score: 0.971\n"
     ]
    }
   ],
   "source": [
    "lr = LogisticRegression()\n",
    "lr.fit(vectorized_x_train_smote, y_train_smote)\n",
    "\n",
    "y_train_pred = lr.predict(vectorized_x_train_smote)\n",
    "\n",
    "y_test_pred = lr.predict(vectorized_x_test)\n",
    "\n",
    "training_scores(y_train_smote, y_train_pred)\n",
    "\n",
    "validation_scores(y_test, y_test_pred)"
   ]
  },
  {
   "cell_type": "markdown",
   "id": "294b5a96",
   "metadata": {},
   "source": [
    "### Naive Bayes "
   ]
  },
  {
   "cell_type": "code",
   "execution_count": 290,
   "id": "2a915d51",
   "metadata": {},
   "outputs": [
    {
     "name": "stdout",
     "output_type": "stream",
     "text": [
      "Accuracy: 0.931, Precision: 0.933, Recall: 0.931, F1-score: 0.931\n",
      "Accuracy: 0.951, Precision: 0.951, Recall: 0.951, F1-score: 0.951\n"
     ]
    }
   ],
   "source": [
    "mnb = MultinomialNB()\n",
    "mnb.fit(vectorized_x_train_smote, y_train_smote)\n",
    "\n",
    "y_train_pred = mnb.predict(vectorized_x_train_smote)\n",
    "\n",
    "y_test_pred = mnb.predict(vectorized_x_test)\n",
    "\n",
    "training_scores(y_train_smote, y_train_pred)\n",
    "\n",
    "validation_scores(y_test, y_test_pred)"
   ]
  },
  {
   "cell_type": "markdown",
   "id": "74ec0e07",
   "metadata": {},
   "source": [
    "### Decision Tree "
   ]
  },
  {
   "cell_type": "code",
   "execution_count": 291,
   "id": "57e68969",
   "metadata": {},
   "outputs": [
    {
     "name": "stdout",
     "output_type": "stream",
     "text": [
      "Accuracy: 0.998, Precision: 0.998, Recall: 0.998, F1-score: 0.998\n",
      "Accuracy: 0.951, Precision: 0.951, Recall: 0.951, F1-score: 0.951\n"
     ]
    }
   ],
   "source": [
    "dt = DecisionTreeClassifier()\n",
    "\n",
    "dt.fit(vectorized_x_train_smote, y_train_smote)\n",
    "\n",
    "y_train_pred = dt.predict(vectorized_x_train_smote)\n",
    "\n",
    "y_test_pred = dt.predict(vectorized_x_test)\n",
    "\n",
    "training_scores(y_train_smote, y_train_pred)\n",
    "\n",
    "validation_scores(y_test, y_test_pred)"
   ]
  },
  {
   "cell_type": "markdown",
   "id": "6d5e9c45",
   "metadata": {},
   "source": [
    "### Random Forest "
   ]
  },
  {
   "cell_type": "code",
   "execution_count": 292,
   "id": "98b32564",
   "metadata": {},
   "outputs": [
    {
     "name": "stdout",
     "output_type": "stream",
     "text": [
      "Accuracy: 0.998, Precision: 0.998, Recall: 0.998, F1-score: 0.998\n",
      "Accuracy: 0.98, Precision: 0.981, Recall: 0.98, F1-score: 0.98\n"
     ]
    }
   ],
   "source": [
    "rf = RandomForestClassifier()\n",
    "\n",
    "rf.fit(vectorized_x_train_smote, y_train_smote)\n",
    "\n",
    "y_train_pred = rf.predict(vectorized_x_train_smote)\n",
    "\n",
    "y_test_pred = rf.predict(vectorized_x_test)\n",
    "\n",
    "training_scores(y_train_smote, y_train_pred)\n",
    "\n",
    "validation_scores(y_test, y_test_pred)"
   ]
  },
  {
   "cell_type": "markdown",
   "id": "755bae18",
   "metadata": {},
   "source": [
    "### Support Vector Machine "
   ]
  },
  {
   "cell_type": "code",
   "execution_count": 293,
   "id": "38589c18",
   "metadata": {},
   "outputs": [
    {
     "name": "stdout",
     "output_type": "stream",
     "text": [
      "Accuracy: 0.995, Precision: 0.995, Recall: 0.995, F1-score: 0.995\n",
      "Accuracy: 0.951, Precision: 0.951, Recall: 0.951, F1-score: 0.951\n"
     ]
    }
   ],
   "source": [
    "svm = SVC()\n",
    "\n",
    "svm.fit(vectorized_x_train_smote, y_train_smote)\n",
    "\n",
    "y_train_pred = svm.predict(vectorized_x_train_smote)\n",
    "\n",
    "y_test_pred = svm.predict(vectorized_x_test)\n",
    "\n",
    "training_scores(y_train_smote, y_train_pred)\n",
    "\n",
    "validation_scores(y_test, y_test_pred)"
   ]
  },
  {
   "cell_type": "code",
   "execution_count": 297,
   "id": "08f63b29",
   "metadata": {},
   "outputs": [],
   "source": [
    "import pickle\n",
    "\n",
    "with open(r'C:\\Users\\Pasidhu\\Desktop\\Final poochpaw\\Function 01\\Sntiment Analysis Model\\model/model1.pickle', 'wb') as file:\n",
    "    pickle.dump(lr, file)"
   ]
  },
  {
   "cell_type": "code",
   "execution_count": null,
   "id": "6ee14b8a",
   "metadata": {},
   "outputs": [],
   "source": []
  },
  {
   "cell_type": "code",
   "execution_count": null,
   "id": "d8bf5539-951f-4259-b5fe-9ada2dc33c56",
   "metadata": {},
   "outputs": [],
   "source": []
  }
 ],
 "metadata": {
  "kernelspec": {
   "display_name": "Python 3 (ipykernel)",
   "language": "python",
   "name": "python3"
  },
  "language_info": {
   "codemirror_mode": {
    "name": "ipython",
    "version": 3
   },
   "file_extension": ".py",
   "mimetype": "text/x-python",
   "name": "python",
   "nbconvert_exporter": "python",
   "pygments_lexer": "ipython3",
   "version": "3.12.3"
  }
 },
 "nbformat": 4,
 "nbformat_minor": 5
}
