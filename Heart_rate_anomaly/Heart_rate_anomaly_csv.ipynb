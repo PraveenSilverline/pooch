{
 "cells": [
  {
   "cell_type": "code",
   "execution_count": 1,
   "metadata": {},
   "outputs": [],
   "source": [
    "import pandas as pd\n",
    "import numpy as np\n",
    "import seaborn as sns\n",
    "from tensorflow import keras"
   ]
  },
  {
   "cell_type": "code",
   "execution_count": 2,
   "metadata": {},
   "outputs": [
    {
     "data": {
      "text/html": [
       "<div>\n",
       "<style scoped>\n",
       "    .dataframe tbody tr th:only-of-type {\n",
       "        vertical-align: middle;\n",
       "    }\n",
       "\n",
       "    .dataframe tbody tr th {\n",
       "        vertical-align: top;\n",
       "    }\n",
       "\n",
       "    .dataframe thead th {\n",
       "        text-align: right;\n",
       "    }\n",
       "</style>\n",
       "<table border=\"1\" class=\"dataframe\">\n",
       "  <thead>\n",
       "    <tr style=\"text-align: right;\">\n",
       "      <th></th>\n",
       "      <th>State</th>\n",
       "      <th>BPM</th>\n",
       "      <th>gender</th>\n",
       "      <th>age</th>\n",
       "      <th>bred</th>\n",
       "    </tr>\n",
       "  </thead>\n",
       "  <tbody>\n",
       "    <tr>\n",
       "      <th>0</th>\n",
       "      <td>Anomaly</td>\n",
       "      <td>60</td>\n",
       "      <td>male</td>\n",
       "      <td>5</td>\n",
       "      <td>German Shepherd</td>\n",
       "    </tr>\n",
       "    <tr>\n",
       "      <th>1</th>\n",
       "      <td>Anomaly</td>\n",
       "      <td>61</td>\n",
       "      <td>male</td>\n",
       "      <td>3</td>\n",
       "      <td>Bulldog</td>\n",
       "    </tr>\n",
       "    <tr>\n",
       "      <th>2</th>\n",
       "      <td>Anomaly</td>\n",
       "      <td>62</td>\n",
       "      <td>female</td>\n",
       "      <td>4</td>\n",
       "      <td>Labrador Retriever</td>\n",
       "    </tr>\n",
       "    <tr>\n",
       "      <th>3</th>\n",
       "      <td>Anomaly</td>\n",
       "      <td>63</td>\n",
       "      <td>female</td>\n",
       "      <td>5</td>\n",
       "      <td>Golden Retriever</td>\n",
       "    </tr>\n",
       "    <tr>\n",
       "      <th>4</th>\n",
       "      <td>Anomaly</td>\n",
       "      <td>64</td>\n",
       "      <td>male</td>\n",
       "      <td>2</td>\n",
       "      <td>Labrador Retriever</td>\n",
       "    </tr>\n",
       "  </tbody>\n",
       "</table>\n",
       "</div>"
      ],
      "text/plain": [
       "     State  BPM  gender  age                bred\n",
       "0  Anomaly   60    male    5     German Shepherd\n",
       "1  Anomaly   61    male    3             Bulldog\n",
       "2  Anomaly   62  female    4  Labrador Retriever\n",
       "3  Anomaly   63  female    5    Golden Retriever\n",
       "4  Anomaly   64    male    2  Labrador Retriever"
      ]
     },
     "execution_count": 2,
     "metadata": {},
     "output_type": "execute_result"
    }
   ],
   "source": [
    "df = pd.read_csv(\"./BPM_values.csv\")\n",
    "df.head()"
   ]
  },
  {
   "cell_type": "code",
   "execution_count": 3,
   "metadata": {},
   "outputs": [
    {
     "data": {
      "text/plain": [
       "State\n",
       "Normal     56\n",
       "Anomaly    55\n",
       "Name: count, dtype: int64"
      ]
     },
     "execution_count": 3,
     "metadata": {},
     "output_type": "execute_result"
    }
   ],
   "source": [
    "df['State'].value_counts()"
   ]
  },
  {
   "cell_type": "code",
   "execution_count": 4,
   "metadata": {},
   "outputs": [
    {
     "name": "stdout",
     "output_type": "stream",
     "text": [
      "<class 'pandas.core.frame.DataFrame'>\n",
      "RangeIndex: 111 entries, 0 to 110\n",
      "Data columns (total 5 columns):\n",
      " #   Column  Non-Null Count  Dtype \n",
      "---  ------  --------------  ----- \n",
      " 0   State   111 non-null    object\n",
      " 1   BPM     111 non-null    int64 \n",
      " 2   gender  111 non-null    object\n",
      " 3   age     111 non-null    int64 \n",
      " 4   bred    111 non-null    object\n",
      "dtypes: int64(2), object(3)\n",
      "memory usage: 4.5+ KB\n"
     ]
    }
   ],
   "source": [
    "df.info()"
   ]
  },
  {
   "cell_type": "code",
   "execution_count": 5,
   "metadata": {},
   "outputs": [
    {
     "data": {
      "text/plain": [
       "State     0\n",
       "BPM       0\n",
       "gender    0\n",
       "age       0\n",
       "bred      0\n",
       "dtype: int64"
      ]
     },
     "execution_count": 5,
     "metadata": {},
     "output_type": "execute_result"
    }
   ],
   "source": [
    "df.isnull().sum()"
   ]
  },
  {
   "cell_type": "code",
   "execution_count": 7,
   "metadata": {},
   "outputs": [
    {
     "data": {
      "text/html": [
       "<div>\n",
       "<style scoped>\n",
       "    .dataframe tbody tr th:only-of-type {\n",
       "        vertical-align: middle;\n",
       "    }\n",
       "\n",
       "    .dataframe tbody tr th {\n",
       "        vertical-align: top;\n",
       "    }\n",
       "\n",
       "    .dataframe thead th {\n",
       "        text-align: right;\n",
       "    }\n",
       "</style>\n",
       "<table border=\"1\" class=\"dataframe\">\n",
       "  <thead>\n",
       "    <tr style=\"text-align: right;\">\n",
       "      <th></th>\n",
       "      <th>State</th>\n",
       "      <th>BPM</th>\n",
       "      <th>gender</th>\n",
       "      <th>age</th>\n",
       "      <th>bred</th>\n",
       "    </tr>\n",
       "  </thead>\n",
       "  <tbody>\n",
       "    <tr>\n",
       "      <th>0</th>\n",
       "      <td>0</td>\n",
       "      <td>60</td>\n",
       "      <td>1</td>\n",
       "      <td>5</td>\n",
       "      <td>3</td>\n",
       "    </tr>\n",
       "    <tr>\n",
       "      <th>1</th>\n",
       "      <td>0</td>\n",
       "      <td>61</td>\n",
       "      <td>1</td>\n",
       "      <td>3</td>\n",
       "      <td>1</td>\n",
       "    </tr>\n",
       "    <tr>\n",
       "      <th>2</th>\n",
       "      <td>0</td>\n",
       "      <td>62</td>\n",
       "      <td>0</td>\n",
       "      <td>4</td>\n",
       "      <td>5</td>\n",
       "    </tr>\n",
       "    <tr>\n",
       "      <th>3</th>\n",
       "      <td>0</td>\n",
       "      <td>63</td>\n",
       "      <td>0</td>\n",
       "      <td>5</td>\n",
       "      <td>4</td>\n",
       "    </tr>\n",
       "    <tr>\n",
       "      <th>4</th>\n",
       "      <td>0</td>\n",
       "      <td>64</td>\n",
       "      <td>1</td>\n",
       "      <td>2</td>\n",
       "      <td>5</td>\n",
       "    </tr>\n",
       "  </tbody>\n",
       "</table>\n",
       "</div>"
      ],
      "text/plain": [
       "   State  BPM  gender  age  bred\n",
       "0      0   60       1    5     3\n",
       "1      0   61       1    3     1\n",
       "2      0   62       0    4     5\n",
       "3      0   63       0    5     4\n",
       "4      0   64       1    2     5"
      ]
     },
     "execution_count": 7,
     "metadata": {},
     "output_type": "execute_result"
    }
   ],
   "source": [
    "from sklearn.preprocessing import LabelEncoder\n",
    "le = LabelEncoder()\n",
    "df['gender'] = le.fit_transform(df['gender'])\n",
    "df['bred'] = le.fit_transform(df['bred'])\n",
    "df['State'] = le.fit_transform(df['State'])\n",
    "df.head()"
   ]
  },
  {
   "cell_type": "code",
   "execution_count": 8,
   "metadata": {},
   "outputs": [
    {
     "name": "stdout",
     "output_type": "stream",
     "text": [
      "['Anomaly' 'Normal']\n"
     ]
    }
   ],
   "source": [
    "state_name = le.classes_\n",
    "print(state_name)"
   ]
  },
  {
   "cell_type": "code",
   "execution_count": 9,
   "metadata": {},
   "outputs": [
    {
     "data": {
      "text/html": [
       "<div>\n",
       "<style scoped>\n",
       "    .dataframe tbody tr th:only-of-type {\n",
       "        vertical-align: middle;\n",
       "    }\n",
       "\n",
       "    .dataframe tbody tr th {\n",
       "        vertical-align: top;\n",
       "    }\n",
       "\n",
       "    .dataframe thead th {\n",
       "        text-align: right;\n",
       "    }\n",
       "</style>\n",
       "<table border=\"1\" class=\"dataframe\">\n",
       "  <thead>\n",
       "    <tr style=\"text-align: right;\">\n",
       "      <th></th>\n",
       "      <th>BPM</th>\n",
       "      <th>gender</th>\n",
       "      <th>age</th>\n",
       "      <th>bred</th>\n",
       "    </tr>\n",
       "  </thead>\n",
       "  <tbody>\n",
       "    <tr>\n",
       "      <th>0</th>\n",
       "      <td>60</td>\n",
       "      <td>1</td>\n",
       "      <td>5</td>\n",
       "      <td>3</td>\n",
       "    </tr>\n",
       "    <tr>\n",
       "      <th>1</th>\n",
       "      <td>61</td>\n",
       "      <td>1</td>\n",
       "      <td>3</td>\n",
       "      <td>1</td>\n",
       "    </tr>\n",
       "    <tr>\n",
       "      <th>2</th>\n",
       "      <td>62</td>\n",
       "      <td>0</td>\n",
       "      <td>4</td>\n",
       "      <td>5</td>\n",
       "    </tr>\n",
       "  </tbody>\n",
       "</table>\n",
       "</div>"
      ],
      "text/plain": [
       "   BPM  gender  age  bred\n",
       "0   60       1    5     3\n",
       "1   61       1    3     1\n",
       "2   62       0    4     5"
      ]
     },
     "execution_count": 9,
     "metadata": {},
     "output_type": "execute_result"
    }
   ],
   "source": [
    "X = df.drop(columns=['State'])\n",
    "y = df['State']\n",
    "X.head(3)"
   ]
  },
  {
   "cell_type": "code",
   "execution_count": 10,
   "metadata": {},
   "outputs": [
    {
     "data": {
      "text/plain": [
       "0    0\n",
       "1    0\n",
       "2    0\n",
       "Name: State, dtype: int32"
      ]
     },
     "execution_count": 10,
     "metadata": {},
     "output_type": "execute_result"
    }
   ],
   "source": [
    "y.head(3)"
   ]
  },
  {
   "cell_type": "code",
   "execution_count": 11,
   "metadata": {},
   "outputs": [],
   "source": [
    "from sklearn.model_selection import train_test_split\n",
    "x_train, x_test, y_train, y_test = train_test_split(X, y, test_size=0.3, shuffle=True, random_state=69)"
   ]
  },
  {
   "cell_type": "code",
   "execution_count": 12,
   "metadata": {},
   "outputs": [
    {
     "data": {
      "text/html": [
       "<div>\n",
       "<style scoped>\n",
       "    .dataframe tbody tr th:only-of-type {\n",
       "        vertical-align: middle;\n",
       "    }\n",
       "\n",
       "    .dataframe tbody tr th {\n",
       "        vertical-align: top;\n",
       "    }\n",
       "\n",
       "    .dataframe thead th {\n",
       "        text-align: right;\n",
       "    }\n",
       "</style>\n",
       "<table border=\"1\" class=\"dataframe\">\n",
       "  <thead>\n",
       "    <tr style=\"text-align: right;\">\n",
       "      <th></th>\n",
       "      <th>BPM</th>\n",
       "      <th>gender</th>\n",
       "      <th>age</th>\n",
       "      <th>bred</th>\n",
       "    </tr>\n",
       "  </thead>\n",
       "  <tbody>\n",
       "    <tr>\n",
       "      <th>8</th>\n",
       "      <td>68</td>\n",
       "      <td>0</td>\n",
       "      <td>3</td>\n",
       "      <td>1</td>\n",
       "    </tr>\n",
       "    <tr>\n",
       "      <th>13</th>\n",
       "      <td>73</td>\n",
       "      <td>1</td>\n",
       "      <td>1</td>\n",
       "      <td>3</td>\n",
       "    </tr>\n",
       "    <tr>\n",
       "      <th>66</th>\n",
       "      <td>106</td>\n",
       "      <td>1</td>\n",
       "      <td>5</td>\n",
       "      <td>4</td>\n",
       "    </tr>\n",
       "    <tr>\n",
       "      <th>17</th>\n",
       "      <td>77</td>\n",
       "      <td>0</td>\n",
       "      <td>3</td>\n",
       "      <td>5</td>\n",
       "    </tr>\n",
       "    <tr>\n",
       "      <th>64</th>\n",
       "      <td>104</td>\n",
       "      <td>1</td>\n",
       "      <td>3</td>\n",
       "      <td>3</td>\n",
       "    </tr>\n",
       "    <tr>\n",
       "      <th>81</th>\n",
       "      <td>121</td>\n",
       "      <td>1</td>\n",
       "      <td>5</td>\n",
       "      <td>3</td>\n",
       "    </tr>\n",
       "    <tr>\n",
       "      <th>52</th>\n",
       "      <td>92</td>\n",
       "      <td>1</td>\n",
       "      <td>2</td>\n",
       "      <td>5</td>\n",
       "    </tr>\n",
       "    <tr>\n",
       "      <th>33</th>\n",
       "      <td>83</td>\n",
       "      <td>0</td>\n",
       "      <td>3</td>\n",
       "      <td>4</td>\n",
       "    </tr>\n",
       "    <tr>\n",
       "      <th>10</th>\n",
       "      <td>70</td>\n",
       "      <td>1</td>\n",
       "      <td>5</td>\n",
       "      <td>6</td>\n",
       "    </tr>\n",
       "    <tr>\n",
       "      <th>91</th>\n",
       "      <td>131</td>\n",
       "      <td>0</td>\n",
       "      <td>2</td>\n",
       "      <td>1</td>\n",
       "    </tr>\n",
       "    <tr>\n",
       "      <th>98</th>\n",
       "      <td>138</td>\n",
       "      <td>1</td>\n",
       "      <td>4</td>\n",
       "      <td>6</td>\n",
       "    </tr>\n",
       "    <tr>\n",
       "      <th>71</th>\n",
       "      <td>111</td>\n",
       "      <td>0</td>\n",
       "      <td>1</td>\n",
       "      <td>0</td>\n",
       "    </tr>\n",
       "    <tr>\n",
       "      <th>84</th>\n",
       "      <td>124</td>\n",
       "      <td>1</td>\n",
       "      <td>1</td>\n",
       "      <td>1</td>\n",
       "    </tr>\n",
       "    <tr>\n",
       "      <th>34</th>\n",
       "      <td>83</td>\n",
       "      <td>1</td>\n",
       "      <td>4</td>\n",
       "      <td>1</td>\n",
       "    </tr>\n",
       "    <tr>\n",
       "      <th>62</th>\n",
       "      <td>102</td>\n",
       "      <td>0</td>\n",
       "      <td>4</td>\n",
       "      <td>0</td>\n",
       "    </tr>\n",
       "    <tr>\n",
       "      <th>30</th>\n",
       "      <td>82</td>\n",
       "      <td>1</td>\n",
       "      <td>4</td>\n",
       "      <td>5</td>\n",
       "    </tr>\n",
       "    <tr>\n",
       "      <th>26</th>\n",
       "      <td>80</td>\n",
       "      <td>0</td>\n",
       "      <td>5</td>\n",
       "      <td>1</td>\n",
       "    </tr>\n",
       "    <tr>\n",
       "      <th>102</th>\n",
       "      <td>142</td>\n",
       "      <td>1</td>\n",
       "      <td>1</td>\n",
       "      <td>0</td>\n",
       "    </tr>\n",
       "    <tr>\n",
       "      <th>28</th>\n",
       "      <td>80</td>\n",
       "      <td>1</td>\n",
       "      <td>2</td>\n",
       "      <td>3</td>\n",
       "    </tr>\n",
       "    <tr>\n",
       "      <th>87</th>\n",
       "      <td>127</td>\n",
       "      <td>1</td>\n",
       "      <td>3</td>\n",
       "      <td>5</td>\n",
       "    </tr>\n",
       "    <tr>\n",
       "      <th>51</th>\n",
       "      <td>92</td>\n",
       "      <td>0</td>\n",
       "      <td>5</td>\n",
       "      <td>4</td>\n",
       "    </tr>\n",
       "    <tr>\n",
       "      <th>31</th>\n",
       "      <td>82</td>\n",
       "      <td>1</td>\n",
       "      <td>1</td>\n",
       "      <td>3</td>\n",
       "    </tr>\n",
       "    <tr>\n",
       "      <th>68</th>\n",
       "      <td>108</td>\n",
       "      <td>0</td>\n",
       "      <td>2</td>\n",
       "      <td>4</td>\n",
       "    </tr>\n",
       "    <tr>\n",
       "      <th>94</th>\n",
       "      <td>134</td>\n",
       "      <td>0</td>\n",
       "      <td>1</td>\n",
       "      <td>5</td>\n",
       "    </tr>\n",
       "    <tr>\n",
       "      <th>100</th>\n",
       "      <td>140</td>\n",
       "      <td>0</td>\n",
       "      <td>1</td>\n",
       "      <td>2</td>\n",
       "    </tr>\n",
       "    <tr>\n",
       "      <th>104</th>\n",
       "      <td>144</td>\n",
       "      <td>1</td>\n",
       "      <td>3</td>\n",
       "      <td>3</td>\n",
       "    </tr>\n",
       "    <tr>\n",
       "      <th>42</th>\n",
       "      <td>86</td>\n",
       "      <td>1</td>\n",
       "      <td>5</td>\n",
       "      <td>1</td>\n",
       "    </tr>\n",
       "    <tr>\n",
       "      <th>15</th>\n",
       "      <td>75</td>\n",
       "      <td>0</td>\n",
       "      <td>1</td>\n",
       "      <td>3</td>\n",
       "    </tr>\n",
       "    <tr>\n",
       "      <th>25</th>\n",
       "      <td>80</td>\n",
       "      <td>1</td>\n",
       "      <td>5</td>\n",
       "      <td>6</td>\n",
       "    </tr>\n",
       "    <tr>\n",
       "      <th>5</th>\n",
       "      <td>65</td>\n",
       "      <td>0</td>\n",
       "      <td>3</td>\n",
       "      <td>3</td>\n",
       "    </tr>\n",
       "    <tr>\n",
       "      <th>36</th>\n",
       "      <td>84</td>\n",
       "      <td>1</td>\n",
       "      <td>2</td>\n",
       "      <td>6</td>\n",
       "    </tr>\n",
       "    <tr>\n",
       "      <th>92</th>\n",
       "      <td>132</td>\n",
       "      <td>1</td>\n",
       "      <td>1</td>\n",
       "      <td>5</td>\n",
       "    </tr>\n",
       "    <tr>\n",
       "      <th>58</th>\n",
       "      <td>98</td>\n",
       "      <td>1</td>\n",
       "      <td>5</td>\n",
       "      <td>6</td>\n",
       "    </tr>\n",
       "    <tr>\n",
       "      <th>6</th>\n",
       "      <td>66</td>\n",
       "      <td>1</td>\n",
       "      <td>1</td>\n",
       "      <td>1</td>\n",
       "    </tr>\n",
       "  </tbody>\n",
       "</table>\n",
       "</div>"
      ],
      "text/plain": [
       "     BPM  gender  age  bred\n",
       "8     68       0    3     1\n",
       "13    73       1    1     3\n",
       "66   106       1    5     4\n",
       "17    77       0    3     5\n",
       "64   104       1    3     3\n",
       "81   121       1    5     3\n",
       "52    92       1    2     5\n",
       "33    83       0    3     4\n",
       "10    70       1    5     6\n",
       "91   131       0    2     1\n",
       "98   138       1    4     6\n",
       "71   111       0    1     0\n",
       "84   124       1    1     1\n",
       "34    83       1    4     1\n",
       "62   102       0    4     0\n",
       "30    82       1    4     5\n",
       "26    80       0    5     1\n",
       "102  142       1    1     0\n",
       "28    80       1    2     3\n",
       "87   127       1    3     5\n",
       "51    92       0    5     4\n",
       "31    82       1    1     3\n",
       "68   108       0    2     4\n",
       "94   134       0    1     5\n",
       "100  140       0    1     2\n",
       "104  144       1    3     3\n",
       "42    86       1    5     1\n",
       "15    75       0    1     3\n",
       "25    80       1    5     6\n",
       "5     65       0    3     3\n",
       "36    84       1    2     6\n",
       "92   132       1    1     5\n",
       "58    98       1    5     6\n",
       "6     66       1    1     1"
      ]
     },
     "execution_count": 12,
     "metadata": {},
     "output_type": "execute_result"
    }
   ],
   "source": [
    "x_test"
   ]
  },
  {
   "cell_type": "code",
   "execution_count": 13,
   "metadata": {},
   "outputs": [
    {
     "data": {
      "text/plain": [
       "(77, 4)"
      ]
     },
     "execution_count": 13,
     "metadata": {},
     "output_type": "execute_result"
    }
   ],
   "source": [
    "x_train.shape"
   ]
  },
  {
   "cell_type": "code",
   "execution_count": 14,
   "metadata": {},
   "outputs": [
    {
     "name": "stdout",
     "output_type": "stream",
     "text": [
      "    BPM  gender  age  bred\n",
      "95  135       0    3     3\n",
      "[[ 1.30803397 -0.91287093 -0.3825599   0.13083893]]\n",
      "[[-1.33105373 -0.91287093 -0.3825599  -1.05440782]]\n"
     ]
    }
   ],
   "source": [
    "from sklearn.preprocessing import StandardScaler\n",
    "sc = StandardScaler()\n",
    "print(x_train[:1])\n",
    "x_train = sc.fit_transform(x_train)\n",
    "x_test = sc.transform(x_test)\n",
    "print(x_train[:1])\n",
    "print(x_test[:1])"
   ]
  },
  {
   "cell_type": "code",
   "execution_count": 15,
   "metadata": {},
   "outputs": [
    {
     "name": "stdout",
     "output_type": "stream",
     "text": [
      "[[1. 0.]\n",
      " [1. 0.]\n",
      " [1. 0.]\n",
      " [1. 0.]\n",
      " [1. 0.]]\n"
     ]
    }
   ],
   "source": [
    "y_train = keras.utils.to_categorical(y_train, num_classes=2)\n",
    "print(y_train[:5])"
   ]
  },
  {
   "cell_type": "code",
   "execution_count": 16,
   "metadata": {},
   "outputs": [],
   "source": [
    "from keras.models import Sequential\n",
    "from keras.layers import Dense, Dropout"
   ]
  },
  {
   "cell_type": "code",
   "execution_count": 17,
   "metadata": {},
   "outputs": [],
   "source": [
    "model = Sequential()\n",
    "model.add(Dense(units=32, activation='relu', input_shape=(x_train.shape[-1], )))\n",
    "model.add(Dense(units=32, activation='relu'))\n",
    "model.add(Dropout(0.5))\n",
    "model.add(Dense(units=2, activation='softmax'))"
   ]
  },
  {
   "cell_type": "code",
   "execution_count": 18,
   "metadata": {},
   "outputs": [
    {
     "name": "stdout",
     "output_type": "stream",
     "text": [
      "Model: \"sequential\"\n",
      "_________________________________________________________________\n",
      " Layer (type)                Output Shape              Param #   \n",
      "=================================================================\n",
      " dense (Dense)               (None, 32)                160       \n",
      "                                                                 \n",
      " dense_1 (Dense)             (None, 32)                1056      \n",
      "                                                                 \n",
      " dropout (Dropout)           (None, 32)                0         \n",
      "                                                                 \n",
      " dense_2 (Dense)             (None, 2)                 66        \n",
      "                                                                 \n",
      "=================================================================\n",
      "Total params: 1282 (5.01 KB)\n",
      "Trainable params: 1282 (5.01 KB)\n",
      "Non-trainable params: 0 (0.00 Byte)\n",
      "_________________________________________________________________\n"
     ]
    }
   ],
   "source": [
    "model.compile(optimizer='Adam', loss='categorical_crossentropy', metrics=['accuracy'])\n",
    "model.summary()"
   ]
  },
  {
   "cell_type": "code",
   "execution_count": 19,
   "metadata": {},
   "outputs": [
    {
     "name": "stdout",
     "output_type": "stream",
     "text": [
      "Epoch 1/100\n",
      "3/3 - 0s - loss: 0.7736 - accuracy: 0.4675 - 482ms/epoch - 161ms/step\n",
      "Epoch 2/100\n",
      "3/3 - 0s - loss: 0.7264 - accuracy: 0.5455 - 5ms/epoch - 2ms/step\n",
      "Epoch 3/100\n",
      "3/3 - 0s - loss: 0.7333 - accuracy: 0.4805 - 4ms/epoch - 1ms/step\n",
      "Epoch 4/100\n",
      "3/3 - 0s - loss: 0.7530 - accuracy: 0.4805 - 4ms/epoch - 1ms/step\n",
      "Epoch 5/100\n",
      "3/3 - 0s - loss: 0.7136 - accuracy: 0.5584 - 4ms/epoch - 1ms/step\n",
      "Epoch 6/100\n",
      "3/3 - 0s - loss: 0.7009 - accuracy: 0.5584 - 4ms/epoch - 1ms/step\n",
      "Epoch 7/100\n",
      "3/3 - 0s - loss: 0.6703 - accuracy: 0.6104 - 4ms/epoch - 1ms/step\n",
      "Epoch 8/100\n",
      "3/3 - 0s - loss: 0.6680 - accuracy: 0.6234 - 4ms/epoch - 1ms/step\n",
      "Epoch 9/100\n",
      "3/3 - 0s - loss: 0.6625 - accuracy: 0.6104 - 4ms/epoch - 1ms/step\n",
      "Epoch 10/100\n",
      "3/3 - 0s - loss: 0.6269 - accuracy: 0.7013 - 5ms/epoch - 2ms/step\n",
      "Epoch 11/100\n",
      "3/3 - 0s - loss: 0.6526 - accuracy: 0.5974 - 4ms/epoch - 1ms/step\n",
      "Epoch 12/100\n",
      "3/3 - 0s - loss: 0.6227 - accuracy: 0.7143 - 4ms/epoch - 1ms/step\n",
      "Epoch 13/100\n",
      "3/3 - 0s - loss: 0.5828 - accuracy: 0.7273 - 6ms/epoch - 2ms/step\n",
      "Epoch 14/100\n",
      "3/3 - 0s - loss: 0.6106 - accuracy: 0.7273 - 6ms/epoch - 2ms/step\n",
      "Epoch 15/100\n",
      "3/3 - 0s - loss: 0.5726 - accuracy: 0.7532 - 5ms/epoch - 2ms/step\n",
      "Epoch 16/100\n",
      "3/3 - 0s - loss: 0.5984 - accuracy: 0.7532 - 6ms/epoch - 2ms/step\n",
      "Epoch 17/100\n",
      "3/3 - 0s - loss: 0.5801 - accuracy: 0.7403 - 5ms/epoch - 2ms/step\n",
      "Epoch 18/100\n",
      "3/3 - 0s - loss: 0.6134 - accuracy: 0.7403 - 6ms/epoch - 2ms/step\n",
      "Epoch 19/100\n",
      "3/3 - 0s - loss: 0.5706 - accuracy: 0.7403 - 4ms/epoch - 1ms/step\n",
      "Epoch 20/100\n",
      "3/3 - 0s - loss: 0.5662 - accuracy: 0.7532 - 4ms/epoch - 1ms/step\n",
      "Epoch 21/100\n",
      "3/3 - 0s - loss: 0.5365 - accuracy: 0.8182 - 4ms/epoch - 1ms/step\n",
      "Epoch 22/100\n",
      "3/3 - 0s - loss: 0.5352 - accuracy: 0.7922 - 4ms/epoch - 1ms/step\n",
      "Epoch 23/100\n",
      "3/3 - 0s - loss: 0.5435 - accuracy: 0.7792 - 4ms/epoch - 1ms/step\n",
      "Epoch 24/100\n",
      "3/3 - 0s - loss: 0.5319 - accuracy: 0.8182 - 5ms/epoch - 2ms/step\n",
      "Epoch 25/100\n",
      "3/3 - 0s - loss: 0.4934 - accuracy: 0.8312 - 3ms/epoch - 1000us/step\n",
      "Epoch 26/100\n",
      "3/3 - 0s - loss: 0.4635 - accuracy: 0.8571 - 3ms/epoch - 1ms/step\n",
      "Epoch 27/100\n",
      "3/3 - 0s - loss: 0.4830 - accuracy: 0.8442 - 5ms/epoch - 2ms/step\n",
      "Epoch 28/100\n",
      "3/3 - 0s - loss: 0.4727 - accuracy: 0.8442 - 4ms/epoch - 1ms/step\n",
      "Epoch 29/100\n",
      "3/3 - 0s - loss: 0.4956 - accuracy: 0.8571 - 4ms/epoch - 1ms/step\n",
      "Epoch 30/100\n",
      "3/3 - 0s - loss: 0.4687 - accuracy: 0.8052 - 4ms/epoch - 1ms/step\n",
      "Epoch 31/100\n",
      "3/3 - 0s - loss: 0.4793 - accuracy: 0.7922 - 4ms/epoch - 1ms/step\n",
      "Epoch 32/100\n",
      "3/3 - 0s - loss: 0.4677 - accuracy: 0.8701 - 4ms/epoch - 1ms/step\n",
      "Epoch 33/100\n",
      "3/3 - 0s - loss: 0.4666 - accuracy: 0.8052 - 4ms/epoch - 1ms/step\n",
      "Epoch 34/100\n",
      "3/3 - 0s - loss: 0.4485 - accuracy: 0.8571 - 5ms/epoch - 2ms/step\n",
      "Epoch 35/100\n",
      "3/3 - 0s - loss: 0.3977 - accuracy: 0.9091 - 4ms/epoch - 1ms/step\n",
      "Epoch 36/100\n",
      "3/3 - 0s - loss: 0.4145 - accuracy: 0.7792 - 4ms/epoch - 1ms/step\n",
      "Epoch 37/100\n",
      "3/3 - 0s - loss: 0.4218 - accuracy: 0.8312 - 4ms/epoch - 1ms/step\n",
      "Epoch 38/100\n",
      "3/3 - 0s - loss: 0.3947 - accuracy: 0.8701 - 3ms/epoch - 1ms/step\n",
      "Epoch 39/100\n",
      "3/3 - 0s - loss: 0.4136 - accuracy: 0.8831 - 4ms/epoch - 1ms/step\n",
      "Epoch 40/100\n",
      "3/3 - 0s - loss: 0.4168 - accuracy: 0.8442 - 5ms/epoch - 2ms/step\n",
      "Epoch 41/100\n",
      "3/3 - 0s - loss: 0.3889 - accuracy: 0.8182 - 5ms/epoch - 2ms/step\n",
      "Epoch 42/100\n",
      "3/3 - 0s - loss: 0.3564 - accuracy: 0.9091 - 6ms/epoch - 2ms/step\n",
      "Epoch 43/100\n",
      "3/3 - 0s - loss: 0.4122 - accuracy: 0.8442 - 6ms/epoch - 2ms/step\n",
      "Epoch 44/100\n",
      "3/3 - 0s - loss: 0.3726 - accuracy: 0.8442 - 6ms/epoch - 2ms/step\n",
      "Epoch 45/100\n",
      "3/3 - 0s - loss: 0.3460 - accuracy: 0.8831 - 6ms/epoch - 2ms/step\n",
      "Epoch 46/100\n",
      "3/3 - 0s - loss: 0.3906 - accuracy: 0.8831 - 4ms/epoch - 1ms/step\n",
      "Epoch 47/100\n",
      "3/3 - 0s - loss: 0.3534 - accuracy: 0.8571 - 4ms/epoch - 1ms/step\n",
      "Epoch 48/100\n",
      "3/3 - 0s - loss: 0.3796 - accuracy: 0.8571 - 4ms/epoch - 1ms/step\n",
      "Epoch 49/100\n",
      "3/3 - 0s - loss: 0.3835 - accuracy: 0.8182 - 4ms/epoch - 1ms/step\n",
      "Epoch 50/100\n",
      "3/3 - 0s - loss: 0.3078 - accuracy: 0.8831 - 4ms/epoch - 1ms/step\n",
      "Epoch 51/100\n",
      "3/3 - 0s - loss: 0.3535 - accuracy: 0.8182 - 5ms/epoch - 2ms/step\n",
      "Epoch 52/100\n",
      "3/3 - 0s - loss: 0.3586 - accuracy: 0.8831 - 3ms/epoch - 997us/step\n",
      "Epoch 53/100\n",
      "3/3 - 0s - loss: 0.3367 - accuracy: 0.8831 - 3ms/epoch - 1ms/step\n",
      "Epoch 54/100\n",
      "3/3 - 0s - loss: 0.3077 - accuracy: 0.8961 - 4ms/epoch - 1ms/step\n",
      "Epoch 55/100\n",
      "3/3 - 0s - loss: 0.3354 - accuracy: 0.8831 - 3ms/epoch - 1ms/step\n",
      "Epoch 56/100\n",
      "3/3 - 0s - loss: 0.2892 - accuracy: 0.9091 - 4ms/epoch - 1ms/step\n",
      "Epoch 57/100\n",
      "3/3 - 0s - loss: 0.3174 - accuracy: 0.8831 - 5ms/epoch - 2ms/step\n",
      "Epoch 58/100\n",
      "3/3 - 0s - loss: 0.3832 - accuracy: 0.8571 - 3ms/epoch - 997us/step\n",
      "Epoch 59/100\n",
      "3/3 - 0s - loss: 0.3429 - accuracy: 0.8312 - 3ms/epoch - 1ms/step\n",
      "Epoch 60/100\n",
      "3/3 - 0s - loss: 0.3404 - accuracy: 0.8831 - 4ms/epoch - 1ms/step\n",
      "Epoch 61/100\n",
      "3/3 - 0s - loss: 0.3306 - accuracy: 0.8831 - 4ms/epoch - 1ms/step\n",
      "Epoch 62/100\n",
      "3/3 - 0s - loss: 0.2936 - accuracy: 0.8831 - 4ms/epoch - 1ms/step\n",
      "Epoch 63/100\n",
      "3/3 - 0s - loss: 0.3175 - accuracy: 0.8571 - 5ms/epoch - 2ms/step\n",
      "Epoch 64/100\n",
      "3/3 - 0s - loss: 0.3256 - accuracy: 0.8831 - 4ms/epoch - 1ms/step\n",
      "Epoch 65/100\n",
      "3/3 - 0s - loss: 0.2830 - accuracy: 0.9221 - 3ms/epoch - 1ms/step\n",
      "Epoch 66/100\n",
      "3/3 - 0s - loss: 0.2896 - accuracy: 0.8831 - 5ms/epoch - 2ms/step\n",
      "Epoch 67/100\n",
      "3/3 - 0s - loss: 0.3084 - accuracy: 0.8571 - 4ms/epoch - 1ms/step\n",
      "Epoch 68/100\n",
      "3/3 - 0s - loss: 0.2968 - accuracy: 0.8961 - 4ms/epoch - 1ms/step\n",
      "Epoch 69/100\n",
      "3/3 - 0s - loss: 0.3229 - accuracy: 0.8831 - 4ms/epoch - 1ms/step\n",
      "Epoch 70/100\n",
      "3/3 - 0s - loss: 0.2973 - accuracy: 0.8961 - 5ms/epoch - 2ms/step\n",
      "Epoch 71/100\n",
      "3/3 - 0s - loss: 0.3389 - accuracy: 0.8831 - 5ms/epoch - 2ms/step\n",
      "Epoch 72/100\n",
      "3/3 - 0s - loss: 0.2710 - accuracy: 0.8831 - 7ms/epoch - 2ms/step\n",
      "Epoch 73/100\n",
      "3/3 - 0s - loss: 0.2858 - accuracy: 0.8831 - 6ms/epoch - 2ms/step\n",
      "Epoch 74/100\n",
      "3/3 - 0s - loss: 0.2631 - accuracy: 0.8701 - 7ms/epoch - 2ms/step\n",
      "Epoch 75/100\n",
      "3/3 - 0s - loss: 0.2891 - accuracy: 0.8961 - 7ms/epoch - 2ms/step\n",
      "Epoch 76/100\n",
      "3/3 - 0s - loss: 0.3210 - accuracy: 0.8831 - 6ms/epoch - 2ms/step\n",
      "Epoch 77/100\n",
      "3/3 - 0s - loss: 0.2734 - accuracy: 0.9221 - 5ms/epoch - 2ms/step\n",
      "Epoch 78/100\n",
      "3/3 - 0s - loss: 0.2746 - accuracy: 0.8961 - 3ms/epoch - 997us/step\n",
      "Epoch 79/100\n",
      "3/3 - 0s - loss: 0.2377 - accuracy: 0.9091 - 4ms/epoch - 1ms/step\n",
      "Epoch 80/100\n",
      "3/3 - 0s - loss: 0.2660 - accuracy: 0.8701 - 5ms/epoch - 2ms/step\n",
      "Epoch 81/100\n",
      "3/3 - 0s - loss: 0.2794 - accuracy: 0.9221 - 5ms/epoch - 2ms/step\n",
      "Epoch 82/100\n",
      "3/3 - 0s - loss: 0.2891 - accuracy: 0.8701 - 3ms/epoch - 997us/step\n",
      "Epoch 83/100\n",
      "3/3 - 0s - loss: 0.2524 - accuracy: 0.8961 - 4ms/epoch - 1ms/step\n",
      "Epoch 84/100\n",
      "3/3 - 0s - loss: 0.2606 - accuracy: 0.8831 - 4ms/epoch - 1ms/step\n",
      "Epoch 85/100\n",
      "3/3 - 0s - loss: 0.2945 - accuracy: 0.9091 - 4ms/epoch - 1ms/step\n",
      "Epoch 86/100\n",
      "3/3 - 0s - loss: 0.2591 - accuracy: 0.9221 - 5ms/epoch - 2ms/step\n",
      "Epoch 87/100\n",
      "3/3 - 0s - loss: 0.2507 - accuracy: 0.9351 - 4ms/epoch - 1ms/step\n",
      "Epoch 88/100\n",
      "3/3 - 0s - loss: 0.2265 - accuracy: 0.9221 - 3ms/epoch - 1ms/step\n",
      "Epoch 89/100\n",
      "3/3 - 0s - loss: 0.2610 - accuracy: 0.8701 - 5ms/epoch - 2ms/step\n",
      "Epoch 90/100\n",
      "3/3 - 0s - loss: 0.2664 - accuracy: 0.8961 - 4ms/epoch - 1ms/step\n",
      "Epoch 91/100\n",
      "3/3 - 0s - loss: 0.2189 - accuracy: 0.9091 - 4ms/epoch - 1ms/step\n",
      "Epoch 92/100\n",
      "3/3 - 0s - loss: 0.2849 - accuracy: 0.8831 - 4ms/epoch - 1ms/step\n",
      "Epoch 93/100\n",
      "3/3 - 0s - loss: 0.2713 - accuracy: 0.8961 - 4ms/epoch - 1ms/step\n",
      "Epoch 94/100\n",
      "3/3 - 0s - loss: 0.1896 - accuracy: 0.9740 - 3ms/epoch - 1000us/step\n",
      "Epoch 95/100\n",
      "3/3 - 0s - loss: 0.2536 - accuracy: 0.8701 - 5ms/epoch - 2ms/step\n",
      "Epoch 96/100\n",
      "3/3 - 0s - loss: 0.2451 - accuracy: 0.9221 - 4ms/epoch - 1ms/step\n",
      "Epoch 97/100\n",
      "3/3 - 0s - loss: 0.2934 - accuracy: 0.9091 - 14ms/epoch - 5ms/step\n",
      "Epoch 98/100\n",
      "3/3 - 0s - loss: 0.2181 - accuracy: 0.9091 - 6ms/epoch - 2ms/step\n",
      "Epoch 99/100\n",
      "3/3 - 0s - loss: 0.2395 - accuracy: 0.9351 - 8ms/epoch - 3ms/step\n",
      "Epoch 100/100\n",
      "3/3 - 0s - loss: 0.2611 - accuracy: 0.9091 - 5ms/epoch - 2ms/step\n"
     ]
    },
    {
     "data": {
      "text/plain": [
       "<keras.src.callbacks.History at 0x2776e51d2e0>"
      ]
     },
     "execution_count": 19,
     "metadata": {},
     "output_type": "execute_result"
    }
   ],
   "source": [
    "model.fit(x_train, y_train, epochs=100, verbose=2)"
   ]
  },
  {
   "cell_type": "code",
   "execution_count": 20,
   "metadata": {},
   "outputs": [
    {
     "data": {
      "text/plain": [
       "array([[-1.33105373, -0.91287093, -0.3825599 , -1.05440782],\n",
       "       [-1.13410689,  1.09544512, -1.81949223,  0.13083893],\n",
       "       [ 0.16574228,  1.09544512,  1.05437242,  0.7234623 ],\n",
       "       [-0.97654941, -0.91287093, -0.3825599 ,  1.31608568],\n",
       "       [ 0.08696354,  1.09544512, -0.3825599 ,  0.13083893],\n",
       "       [ 0.75658281,  1.09544512,  1.05437242,  0.13083893],\n",
       "       [-0.38570888,  1.09544512, -1.10102607,  1.31608568],\n",
       "       [-0.7402132 , -0.91287093, -0.3825599 ,  0.7234623 ],\n",
       "       [-1.252275  ,  1.09544512,  1.05437242,  1.90870905],\n",
       "       [ 1.1504765 , -0.91287093, -1.10102607, -1.05440782],\n",
       "       [ 1.42620208,  1.09544512,  0.33590626,  1.90870905],\n",
       "       [ 0.36268912, -0.91287093, -1.81949223, -1.6470312 ],\n",
       "       [ 0.87475092,  1.09544512, -1.81949223, -1.05440782],\n",
       "       [-0.7402132 ,  1.09544512,  0.33590626, -1.05440782],\n",
       "       [ 0.0081848 , -0.91287093,  0.33590626, -1.6470312 ],\n",
       "       [-0.77960257,  1.09544512,  0.33590626,  1.31608568],\n",
       "       [-0.85838131, -0.91287093,  1.05437242, -1.05440782],\n",
       "       [ 1.58375955,  1.09544512, -1.81949223, -1.6470312 ],\n",
       "       [-0.85838131,  1.09544512, -1.10102607,  0.13083893],\n",
       "       [ 0.99291902,  1.09544512, -0.3825599 ,  1.31608568],\n",
       "       [-0.38570888, -0.91287093,  1.05437242,  0.7234623 ],\n",
       "       [-0.77960257,  1.09544512, -1.81949223,  0.13083893],\n",
       "       [ 0.24452102, -0.91287093, -1.10102607,  0.7234623 ],\n",
       "       [ 1.2686446 , -0.91287093, -1.81949223,  1.31608568],\n",
       "       [ 1.50498082, -0.91287093, -1.81949223, -0.46178445],\n",
       "       [ 1.66253829,  1.09544512, -0.3825599 ,  0.13083893],\n",
       "       [-0.6220451 ,  1.09544512,  1.05437242, -1.05440782],\n",
       "       [-1.05532815, -0.91287093, -1.81949223,  0.13083893],\n",
       "       [-0.85838131,  1.09544512,  1.05437242,  1.90870905],\n",
       "       [-1.44922184, -0.91287093, -0.3825599 ,  0.13083893],\n",
       "       [-0.70082383,  1.09544512, -1.10102607,  1.90870905],\n",
       "       [ 1.18986587,  1.09544512, -1.81949223,  1.31608568],\n",
       "       [-0.14937267,  1.09544512,  1.05437242,  1.90870905],\n",
       "       [-1.40983247,  1.09544512, -1.81949223, -1.05440782]])"
      ]
     },
     "execution_count": 20,
     "metadata": {},
     "output_type": "execute_result"
    }
   ],
   "source": [
    "x_test"
   ]
  },
  {
   "cell_type": "code",
   "execution_count": 21,
   "metadata": {},
   "outputs": [
    {
     "name": "stdout",
     "output_type": "stream",
     "text": [
      "2/2 [==============================] - 0s 2ms/step\n"
     ]
    }
   ],
   "source": [
    "prediction = model.predict(x_test)"
   ]
  },
  {
   "cell_type": "code",
   "execution_count": 22,
   "metadata": {},
   "outputs": [
    {
     "data": {
      "text/plain": [
       "array([-1.33105373, -0.91287093, -0.3825599 , -1.05440782])"
      ]
     },
     "execution_count": 22,
     "metadata": {},
     "output_type": "execute_result"
    }
   ],
   "source": [
    "import numpy\n",
    "numpy.array(x_test[0])"
   ]
  },
  {
   "cell_type": "code",
   "execution_count": 23,
   "metadata": {},
   "outputs": [
    {
     "name": "stderr",
     "output_type": "stream",
     "text": [
      "c:\\Users\\ashen\\anaconda3\\envs\\detection\\lib\\site-packages\\keras\\src\\engine\\training.py:3079: UserWarning: You are saving your model as an HDF5 file via `model.save()`. This file format is considered legacy. We recommend using instead the native Keras format, e.g. `model.save('my_model.keras')`.\n",
      "  saving_api.save_model(\n"
     ]
    }
   ],
   "source": [
    "model.save('heart_anomaly_model.h5', model)"
   ]
  },
  {
   "cell_type": "code",
   "execution_count": 24,
   "metadata": {},
   "outputs": [
    {
     "name": "stdout",
     "output_type": "stream",
     "text": [
      "2/2 [==============================] - 0s 1ms/step\n",
      "[[0.03409904 0.9659009 ]\n",
      " [0.08927129 0.9107287 ]\n",
      " [0.82895845 0.17104155]\n",
      " [0.4726813  0.5273187 ]\n",
      " [0.7088712  0.2911288 ]\n",
      " [0.988447   0.01155299]\n",
      " [0.2223389  0.77766114]\n",
      " [0.29892337 0.7010766 ]\n",
      " [0.4756961  0.5243039 ]\n",
      " [0.9916997  0.0083003 ]]\n",
      "Normal\n"
     ]
    }
   ],
   "source": [
    "prediction = model.predict(x_test)\n",
    "print(prediction[:10])\n",
    "prediction = np.argmax(prediction, axis=-1)\n",
    "print(state_name[prediction[:1][0]])"
   ]
  },
  {
   "cell_type": "code",
   "execution_count": 25,
   "metadata": {},
   "outputs": [
    {
     "name": "stdout",
     "output_type": "stream",
     "text": [
      "Anomaly\n"
     ]
    }
   ],
   "source": [
    "prediction = np.argmax(prediction, axis=-1)\n",
    "print(state_name[prediction])"
   ]
  },
  {
   "cell_type": "code",
   "execution_count": 34,
   "metadata": {},
   "outputs": [
    {
     "name": "stdout",
     "output_type": "stream",
     "text": [
      "[60, 0, 5, 0]\n",
      "1/1 [==============================] - 0s 39ms/step\n",
      "[[0.01223083 0.9877692 ]]\n",
      "Normal\n"
     ]
    },
    {
     "name": "stderr",
     "output_type": "stream",
     "text": [
      "C:\\Users\\ashen\\AppData\\Roaming\\Python\\Python39\\site-packages\\sklearn\\base.py:464: UserWarning: X does not have valid feature names, but StandardScaler was fitted with feature names\n",
      "  warnings.warn(\n"
     ]
    }
   ],
   "source": [
    "from tensorflow.keras.models import load_model\n",
    "from sklearn.preprocessing import StandardScaler\n",
    "from sklearn.preprocessing import LabelEncoder\n",
    "import pandas as pd\n",
    "import numpy as np\n",
    "from sklearn.model_selection import train_test_split\n",
    "le = LabelEncoder()\n",
    "sc = StandardScaler()\n",
    "\n",
    "df = pd.read_csv(\"./BPM_values.csv\")\n",
    "\n",
    "df['gender'] = le.fit_transform(df['gender'])\n",
    "df['bred'] = le.fit_transform(df['bred'])\n",
    "df['State'] = le.fit_transform(df['State'])\n",
    "state_name = le.classes_\n",
    "X = df.drop(columns=['State'])\n",
    "y = df['State']\n",
    "x_train, x_test, y_train, y_test = train_test_split(X, y, test_size=0.3, shuffle=True, random_state=69)\n",
    "input = [60, \"female\", 5, \"German Shepherd\"]\n",
    "\n",
    "# Create mapping dictionaries\n",
    "gender_map = {\"female\": 0, \"male\": 1}\n",
    "breed_map = {\"German Shepherd\": 0, \"Bulldog\": 1, \"Labrador Retriever\": 2, \"Golden Retriever\": 3}\n",
    "# X_new = np.array([[60 , 1, 5, 1 ]])\n",
    "# Apply mappings\n",
    "input[1] = gender_map[input[1]]\n",
    "input[3] = breed_map[input[3]]\n",
    "\n",
    "print(input)\n",
    "X_new = np.array([input])\n",
    "x_train = sc.fit_transform(x_train)\n",
    "x_test = sc.transform(X_new)\n",
    "\n",
    "# x_test = sc.transform(x_test)\n",
    "model = load_model('heart_anomaly_model.h5')\n",
    "prediction = model.predict(x_test)\n",
    "print(prediction[:10])\n",
    "prediction = np.argmax(prediction, axis=-1)\n",
    "print(state_name[prediction][0])"
   ]
  }
 ],
 "metadata": {
  "kernelspec": {
   "display_name": "detection",
   "language": "python",
   "name": "python3"
  },
  "language_info": {
   "codemirror_mode": {
    "name": "ipython",
    "version": 3
   },
   "file_extension": ".py",
   "mimetype": "text/x-python",
   "name": "python",
   "nbconvert_exporter": "python",
   "pygments_lexer": "ipython3",
   "version": "3.9.18"
  }
 },
 "nbformat": 4,
 "nbformat_minor": 2
}
